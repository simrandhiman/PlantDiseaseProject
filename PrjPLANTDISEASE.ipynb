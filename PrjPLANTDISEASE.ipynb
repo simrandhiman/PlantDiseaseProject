{
  "nbformat": 4,
  "nbformat_minor": 0,
  "metadata": {
    "colab": {
      "name": "PrjPLANTDISEASE.ipynb",
      "provenance": [],
      "collapsed_sections": [],
      "authorship_tag": "ABX9TyOzf1113CpOdtyNmB0lp0yP",
      "include_colab_link": true
    },
    "kernelspec": {
      "name": "python3",
      "display_name": "Python 3"
    }
  },
  "cells": [
    {
      "cell_type": "markdown",
      "metadata": {
        "id": "view-in-github",
        "colab_type": "text"
      },
      "source": [
        "<a href=\"https://colab.research.google.com/github/simrandhiman/PlantDiseaseProject/blob/master/PrjPLANTDISEASE.ipynb\" target=\"_parent\"><img src=\"https://colab.research.google.com/assets/colab-badge.svg\" alt=\"Open In Colab\"/></a>"
      ]
    },
    {
      "cell_type": "code",
      "metadata": {
        "id": "tnl6FJ8KNfKv",
        "colab_type": "code",
        "colab": {
          "base_uri": "https://localhost:8080/",
          "height": 34
        },
        "outputId": "de1f15f5-d0fa-4ae2-8d24-dd970f455ce0"
      },
      "source": [
        "#Downloading Dataset\n",
        "!git clone https://github.com/spMohanty/PlantVillage-Dataset.git"
      ],
      "execution_count": 7,
      "outputs": [
        {
          "output_type": "stream",
          "text": [
            "fatal: destination path 'PlantVillage-Dataset' already exists and is not an empty directory.\n"
          ],
          "name": "stdout"
        }
      ]
    },
    {
      "cell_type": "code",
      "metadata": {
        "id": "fNnf2Xyoh-dw",
        "colab_type": "code",
        "colab": {}
      },
      "source": [
        "from os import listdir\n",
        "import cv2\n",
        "from keras.preprocessing import image\n",
        "from keras.preprocessing.image import img_to_array\n",
        "from keras.preprocessing.image import ImageDataGenerator\n",
        "\n",
        "\n"
      ],
      "execution_count": 8,
      "outputs": []
    },
    {
      "cell_type": "code",
      "metadata": {
        "id": "aEioOMPY_MLV",
        "colab_type": "code",
        "colab": {}
      },
      "source": [
        "#initialization\n",
        "directory_path='/content/PlantVillage-Dataset/raw/color'"
      ],
      "execution_count": 10,
      "outputs": []
    },
    {
      "cell_type": "code",
      "metadata": {
        "id": "KgbhoD7C_gvj",
        "colab_type": "code",
        "colab": {}
      },
      "source": [
        "rootdir=listdir(directory_path)\n"
      ],
      "execution_count": 11,
      "outputs": []
    },
    {
      "cell_type": "code",
      "metadata": {
        "id": "W7yWl_7iC1Yg",
        "colab_type": "code",
        "colab": {}
      },
      "source": [
        "def convert_image_to_array(image_dir): ##isme convert krege  array m images\n",
        "    try:\n",
        "        image = cv2.imread(image_dir)\n",
        "        if image is not None :\n",
        "            image = cv2.resize(image, (256,256))   \n",
        "            return img_to_array(image)\n",
        "        else :\n",
        "            return np.array([])\n",
        "    except Exception as e: ##isme?? ye error btayega agar koi error aata hai to#ye jo try except hota if else ki trh hota hai , agar try vala kaam ni kia to except mae eror ko catch krke print krega.\n",
        "        print(f\"Error : {e}\")\n",
        "        return None"
      ],
      "execution_count": 12,
      "outputs": []
    },
    {
      "cell_type": "code",
      "metadata": {
        "id": "NVIoFLb9_swX",
        "colab_type": "code",
        "colab": {}
      },
      "source": [
        "##isme hmari ram bhot consume \n",
        "#hanji , because of function convert image to array\n",
        "# hr ek image ki value = 256 x 256 x 3 = 190000+ hai\n",
        "# hmarr paas total 54000+ images hai\n",
        "# to 54000 values ke liye around 109 Crore + values ho rhi hai \n",
        "# 54000 x 256 x 256 x 3\n",
        "# to usse bhtt ram bhr rhi hai , 12GB bhi kum pd gyi \n",
        "#image_list = []\n",
        "#for classFolder in rootdir:\n",
        "  #imageFolderPath = listdir(f\"{directory_path}/{classFolder}\")\n",
        "  #for image in imageFolderPath:\n",
        "    #imagePath = f\"{directory_path}/{classFolder}/{image}\"\n",
        "    #image_list.append(convert_image_to_array(imagePath))"
      ],
      "execution_count": null,
      "outputs": []
    },
    {
      "cell_type": "code",
      "metadata": {
        "id": "6s6W7SzjAgsK",
        "colab_type": "code",
        "colab": {
          "base_uri": "https://localhost:8080/",
          "height": 1000
        },
        "outputId": "5ca30747-0791-420b-d5dd-2b2cb75e2e40"
      },
      "source": [
        "print(\"[INFO] LOADING DATA...\") ##isme hmm hr ek folder mae kitni images hai , vo dekh rhe hai okkk\n",
        "for classFolder in rootdir:\n",
        "  print(\"[FOLDER] \"+classFolder)\n",
        "  imageFolderPath = listdir(f\"{directory_path}/{classFolder}\")\n",
        "  lengthImages = len(imageFolderPath)\n",
        "  print(\"Images : \"+str(lengthImages))"
      ],
      "execution_count": 14,
      "outputs": [
        {
          "output_type": "stream",
          "text": [
            "[INFO] LOADING DATA...\n",
            "[FOLDER] Tomato___Target_Spot\n",
            "Images : 1404\n",
            "[FOLDER] Potato___Early_blight\n",
            "Images : 1000\n",
            "[FOLDER] Corn_(maize)___Common_rust_\n",
            "Images : 1192\n",
            "[FOLDER] Peach___Bacterial_spot\n",
            "Images : 2297\n",
            "[FOLDER] Tomato___Septoria_leaf_spot\n",
            "Images : 1771\n",
            "[FOLDER] Grape___Leaf_blight_(Isariopsis_Leaf_Spot)\n",
            "Images : 1076\n",
            "[FOLDER] Peach___healthy\n",
            "Images : 360\n",
            "[FOLDER] Corn_(maize)___healthy\n",
            "Images : 1162\n",
            "[FOLDER] Raspberry___healthy\n",
            "Images : 371\n",
            "[FOLDER] Apple___Cedar_apple_rust\n",
            "Images : 275\n",
            "[FOLDER] Tomato___Tomato_mosaic_virus\n",
            "Images : 373\n",
            "[FOLDER] Soybean___healthy\n",
            "Images : 5090\n",
            "[FOLDER] Squash___Powdery_mildew\n",
            "Images : 1835\n",
            "[FOLDER] Pepper,_bell___healthy\n",
            "Images : 1478\n",
            "[FOLDER] Apple___healthy\n",
            "Images : 1645\n",
            "[FOLDER] Blueberry___healthy\n",
            "Images : 1502\n",
            "[FOLDER] Grape___healthy\n",
            "Images : 423\n",
            "[FOLDER] Strawberry___Leaf_scorch\n",
            "Images : 1109\n",
            "[FOLDER] Tomato___Tomato_Yellow_Leaf_Curl_Virus\n",
            "Images : 5357\n",
            "[FOLDER] Corn_(maize)___Cercospora_leaf_spot Gray_leaf_spot\n",
            "Images : 513\n",
            "[FOLDER] Tomato___Leaf_Mold\n",
            "Images : 952\n",
            "[FOLDER] Tomato___Bacterial_spot\n",
            "Images : 2127\n",
            "[FOLDER] Potato___Late_blight\n",
            "Images : 1000\n",
            "[FOLDER] Pepper,_bell___Bacterial_spot\n",
            "Images : 997\n",
            "[FOLDER] Corn_(maize)___Northern_Leaf_Blight\n",
            "Images : 985\n",
            "[FOLDER] Potato___healthy\n",
            "Images : 152\n",
            "[FOLDER] Apple___Black_rot\n",
            "Images : 621\n",
            "[FOLDER] Grape___Esca_(Black_Measles)\n",
            "Images : 1383\n",
            "[FOLDER] Strawberry___healthy\n",
            "Images : 456\n",
            "[FOLDER] Apple___Apple_scab\n",
            "Images : 630\n",
            "[FOLDER] Tomato___healthy\n",
            "Images : 1591\n",
            "[FOLDER] Orange___Haunglongbing_(Citrus_greening)\n",
            "Images : 5507\n",
            "[FOLDER] Tomato___Late_blight\n",
            "Images : 1909\n",
            "[FOLDER] Tomato___Spider_mites Two-spotted_spider_mite\n",
            "Images : 1676\n",
            "[FOLDER] Cherry_(including_sour)___healthy\n",
            "Images : 854\n",
            "[FOLDER] Cherry_(including_sour)___Powdery_mildew\n",
            "Images : 1052\n",
            "[FOLDER] Grape___Black_rot\n",
            "Images : 1180\n",
            "[FOLDER] Tomato___Early_blight\n",
            "Images : 1000\n"
          ],
          "name": "stdout"
        }
      ]
    },
    {
      "cell_type": "code",
      "metadata": {
        "id": "-t5D-80xOKkd",
        "colab_type": "code",
        "colab": {}
      },
      "source": [
        "##iske bd hm keras use krke photo data ko load krke training and validation maensplit krenge okk"
      ],
      "execution_count": null,
      "outputs": []
    },
    {
      "cell_type": "code",
      "metadata": {
        "id": "hAT_B0s1OKhZ",
        "colab_type": "code",
        "colab": {}
      },
      "source": [
        ""
      ],
      "execution_count": null,
      "outputs": []
    },
    {
      "cell_type": "code",
      "metadata": {
        "id": "2rkyRwn4_xj6",
        "colab_type": "code",
        "colab": {}
      },
      "source": [
        "#ImageDataGenerator keras ka function hai\n",
        "#Jisko use krke hum hmari picture ko scale kr re , zoom vagera, rotate kr re , or validation mae 20% data and training mae 80% data rkh rhe hai\n",
        "#shuffle b kra images ko aapas mae \n",
        "dataGeneration = ImageDataGenerator(validation_split=0.2,rotation_range=25,width_shift_range=0.1,height_shift_range=0.1,horizontal_flip=True,fill_mode=\"nearest\")"
      ],
      "execution_count": 15,
      "outputs": []
    },
    {
      "cell_type": "code",
      "metadata": {
        "id": "RWXn0FsHIOpL",
        "colab_type": "code",
        "colab": {
          "base_uri": "https://localhost:8080/",
          "height": 34
        },
        "outputId": "3bbc7864-81ff-40d1-d1b1-abaed88fd29b"
      },
      "source": [
        "#flow from directory ek DirectoryIterator hai mtlb hr ek directory mae jakr image utha rhi \n",
        "#frbus image ko dataGeneration mae jo store hai uske accoring convert kr rhi , usko grayscale mae convert \n",
        "#krke array bnakr Training dataset bna rhi , our training dataset is in trainGenerator okk\n",
        "trainGenerator =dataGeneration.flow_from_directory('/content/PlantVillage-Dataset/raw/color',target_size=(256,256),batch_size=32,shuffle=True,subset=\"training\")"
      ],
      "execution_count": 16,
      "outputs": [
        {
          "output_type": "stream",
          "text": [
            "Found 43456 images belonging to 38 classes.\n"
          ],
          "name": "stdout"
        }
      ]
    },
    {
      "cell_type": "code",
      "metadata": {
        "id": "gAKOVm4eJ3kk",
        "colab_type": "code",
        "colab": {
          "base_uri": "https://localhost:8080/",
          "height": 663
        },
        "outputId": "46ccb514-b597-493d-e913-fc6a7d5b3337"
      },
      "source": [
        "classes=trainGenerator.class_indices #show krne  k liye  with folder name\n",
        "j=0\n",
        "for i in classes:\n",
        "  print(str(j)+\". \"+i)\n",
        "  j = j+1"
      ],
      "execution_count": 17,
      "outputs": [
        {
          "output_type": "stream",
          "text": [
            "0. Apple___Apple_scab\n",
            "1. Apple___Black_rot\n",
            "2. Apple___Cedar_apple_rust\n",
            "3. Apple___healthy\n",
            "4. Blueberry___healthy\n",
            "5. Cherry_(including_sour)___Powdery_mildew\n",
            "6. Cherry_(including_sour)___healthy\n",
            "7. Corn_(maize)___Cercospora_leaf_spot Gray_leaf_spot\n",
            "8. Corn_(maize)___Common_rust_\n",
            "9. Corn_(maize)___Northern_Leaf_Blight\n",
            "10. Corn_(maize)___healthy\n",
            "11. Grape___Black_rot\n",
            "12. Grape___Esca_(Black_Measles)\n",
            "13. Grape___Leaf_blight_(Isariopsis_Leaf_Spot)\n",
            "14. Grape___healthy\n",
            "15. Orange___Haunglongbing_(Citrus_greening)\n",
            "16. Peach___Bacterial_spot\n",
            "17. Peach___healthy\n",
            "18. Pepper,_bell___Bacterial_spot\n",
            "19. Pepper,_bell___healthy\n",
            "20. Potato___Early_blight\n",
            "21. Potato___Late_blight\n",
            "22. Potato___healthy\n",
            "23. Raspberry___healthy\n",
            "24. Soybean___healthy\n",
            "25. Squash___Powdery_mildew\n",
            "26. Strawberry___Leaf_scorch\n",
            "27. Strawberry___healthy\n",
            "28. Tomato___Bacterial_spot\n",
            "29. Tomato___Early_blight\n",
            "30. Tomato___Late_blight\n",
            "31. Tomato___Leaf_Mold\n",
            "32. Tomato___Septoria_leaf_spot\n",
            "33. Tomato___Spider_mites Two-spotted_spider_mite\n",
            "34. Tomato___Target_Spot\n",
            "35. Tomato___Tomato_Yellow_Leaf_Curl_Virus\n",
            "36. Tomato___Tomato_mosaic_virus\n",
            "37. Tomato___healthy\n"
          ],
          "name": "stdout"
        }
      ]
    },
    {
      "cell_type": "code",
      "metadata": {
        "id": "q4a0UgqjI1Y7",
        "colab_type": "code",
        "colab": {
          "base_uri": "https://localhost:8080/",
          "height": 34
        },
        "outputId": "b1fde83a-b239-40f7-ee46-f97d0570f2e3"
      },
      "source": [
        "validGenerator =dataGeneration.flow_from_directory('/content/PlantVillage-Dataset/raw/color',target_size=(256,256),batch_size=32,shuffle=True,subset=\"validation\")"
      ],
      "execution_count": 18,
      "outputs": [
        {
          "output_type": "stream",
          "text": [
            "Found 10849 images belonging to 38 classes.\n"
          ],
          "name": "stdout"
        }
      ]
    },
    {
      "cell_type": "code",
      "metadata": {
        "id": "bsIllp_5Jl7b",
        "colab_type": "code",
        "colab": {}
      },
      "source": [
        ""
      ],
      "execution_count": null,
      "outputs": []
    }
  ]
}