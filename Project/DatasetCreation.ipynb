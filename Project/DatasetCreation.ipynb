{
  "nbformat": 4,
  "nbformat_minor": 0,
  "metadata": {
    "colab": {
      "name": " DatasetCreation.ipynb",
      "provenance": [],
      "collapsed_sections": [],
      "include_colab_link": true
    },
    "kernelspec": {
      "name": "python3",
      "display_name": "Python 3"
    }
  },
  "cells": [
    {
      "cell_type": "markdown",
      "metadata": {
        "id": "view-in-github",
        "colab_type": "text"
      },
      "source": [
        "<a href=\"https://colab.research.google.com/github/simrandhiman/PlantDiseaseProject/blob/master/DatasetCreation.ipynb\" target=\"_parent\"><img src=\"https://colab.research.google.com/assets/colab-badge.svg\" alt=\"Open In Colab\"/></a>"
      ]
    },
    {
      "cell_type": "markdown",
      "metadata": {
        "id": "Y_woMeWxdDjO",
        "colab_type": "text"
      },
      "source": [
        "**<h1>Creating And Normalizing Dataset</h1>**"
      ]
    },
    {
      "cell_type": "markdown",
      "metadata": {
        "id": "lTBUkqcGdYhn",
        "colab_type": "text"
      },
      "source": [
        "Downloading Dataset"
      ]
    },
    {
      "cell_type": "code",
      "metadata": {
        "id": "WHnj6MwkdBRZ",
        "colab_type": "code",
        "colab": {
          "base_uri": "https://localhost:8080/",
          "height": 119
        },
        "outputId": "fbb75c7b-710a-4f8b-bd29-cdd4d8892f6e"
      },
      "source": [
        " !git clone https://github.com/spMohanty/PlantVillage-Dataset"
      ],
      "execution_count": null,
      "outputs": [
        {
          "output_type": "stream",
          "text": [
            "Cloning into 'PlantVillage-Dataset'...\n",
            "remote: Enumerating objects: 163229, done.\u001b[K\n",
            "remote: Total 163229 (delta 0), reused 0 (delta 0), pack-reused 163229\u001b[K\n",
            "Receiving objects: 100% (163229/163229), 2.00 GiB | 33.53 MiB/s, done.\n",
            "Resolving deltas: 100% (99/99), done.\n",
            "Checking out files: 100% (182401/182401), done.\n"
          ],
          "name": "stdout"
        }
      ]
    },
    {
      "cell_type": "markdown",
      "metadata": {
        "id": "8eeq0dQ5dl-k",
        "colab_type": "text"
      },
      "source": [
        "Copy main files dataset to /content/"
      ]
    },
    {
      "cell_type": "code",
      "metadata": {
        "id": "TH0axV2Pdk-d",
        "colab_type": "code",
        "colab": {}
      },
      "source": [
        " !cp -R /content/PlantVillage-Dataset/raw/ /content/"
      ],
      "execution_count": null,
      "outputs": []
    },
    {
      "cell_type": "markdown",
      "metadata": {
        "id": "Y9_Z3_T0d2OX",
        "colab_type": "text"
      },
      "source": [
        "Visulize the Dataset"
      ]
    },
    {
      "cell_type": "code",
      "metadata": {
        "id": "35V8slZpeGxw",
        "colab_type": "code",
        "colab": {
          "base_uri": "https://localhost:8080/",
          "height": 71
        },
        "outputId": "5e586cd4-5d36-4aab-8614-a235f9187132"
      },
      "source": [
        "import numpy as np\n",
        "import seaborn as sns\n",
        "sns.set()\n",
        "from matplotlib import pyplot as plt\n",
        "from os import listdir\n",
        "import random\n",
        "import tqdm\n",
        "import shutil"
      ],
      "execution_count": null,
      "outputs": [
        {
          "output_type": "stream",
          "text": [
            "/usr/local/lib/python3.6/dist-packages/statsmodels/tools/_testing.py:19: FutureWarning: pandas.util.testing is deprecated. Use the functions in the public API at pandas.testing instead.\n",
            "  import pandas.util.testing as tm\n"
          ],
          "name": "stderr"
        }
      ]
    },
    {
      "cell_type": "code",
      "metadata": {
        "id": "BVF2KFwad4Gy",
        "colab_type": "code",
        "colab": {
          "base_uri": "https://localhost:8080/",
          "height": 369
        },
        "outputId": "201e3b5e-f48e-42cf-de40-f97087e7251d"
      },
      "source": [
        " \n",
        "print(\"[INFO] Loading Data \")\n",
        "root_dir = listdir('/content/raw/color/')\n",
        "directory_root='/content/raw/color/'\n",
        "sumP = 0\n",
        "Y = []\n",
        " \n",
        " \n",
        "j=0\n",
        "for directory in root_dir :\n",
        "    plant_disease_image_list = listdir(f\"{directory_root}/{directory}\")\n",
        "    lenP = len(plant_disease_image_list)\n",
        "    Y.append (lenP)\n",
        "    j=j+1\n",
        "    #print(\"[IMAGES] Images : \" + str(lenP))\n",
        "    sumP += lenP\n",
        "   \n",
        "print(\"Total Images : \" + str(sumP))\n",
        "print(\"Mean of Images :\" + str(sumP/len(listdir(directory_root))))\n",
        "print(\"Standard Deviation :\"+str(np.std(Y)))\n",
        " \n",
        "#BarGraph\n",
        "plt.bar(range(0,len(root_dir)),Y)\n",
        "plt.xlabel(\"Class Name\")\n",
        "plt.ylabel(\"Number of Images\")\n",
        "plt.title(\"Number Of Images in every folder\")\n",
        "plt.show()"
      ],
      "execution_count": null,
      "outputs": [
        {
          "output_type": "stream",
          "text": [
            "[INFO] Loading Data \n",
            "Total Images : 54305\n",
            "Mean of Images :1429.078947368421\n",
            "Standard Deviation :1254.8938177261505\n"
          ],
          "name": "stdout"
        },
        {
          "output_type": "display_data",
          "data": {
            "image/png": "[encoded data removed]",
            "text/plain": [
              "<Figure size 432x288 with 1 Axes>"
            ]
          },
          "metadata": {
            "tags": []
          }
        }
      ]
    },
    {
      "cell_type": "markdown",
      "metadata": {
        "id": "n1qFmJ63fIPu",
        "colab_type": "text"
      },
      "source": [
        "Moving Random Images from Random folder in Test Folder"
      ]
    },
    {
      "cell_type": "code",
      "metadata": {
        "id": "i_EV85tNfOp-",
        "colab_type": "code",
        "colab": {}
      },
      "source": [
        "!mkdir Test"
      ],
      "execution_count": null,
      "outputs": []
    },
    {
      "cell_type": "code",
      "metadata": {
        "id": "8V1Gpzbofifi",
        "colab_type": "code",
        "colab": {
          "base_uri": "https://localhost:8080/",
          "height": 34
        },
        "outputId": "6a3d55b0-db46-4b0a-c4be-0ddc7a2c419e"
      },
      "source": [
        "root_dir = listdir(directory_root)\n",
        "print(\"Number Of Folders : \" + str(len(root_dir)))"
      ],
      "execution_count": null,
      "outputs": [
        {
          "output_type": "stream",
          "text": [
            "Number Of Folders : 38\n"
          ],
          "name": "stdout"
        }
      ]
    },
    {
      "cell_type": "code",
      "metadata": {
        "id": "HYuIrKS1fV7S",
        "colab_type": "code",
        "colab": {}
      },
      "source": [
        " def TestFileFolderCreate() :   \n",
        "    randomFolder = random.randint(0,len(root_dir)-1)\n",
        "    folderName = root_dir[randomFolder]\n",
        "    imageList = listdir(f\"{directory_root}/{folderName}\")\n",
        "    randomImageNum = random.randint(0,len(imageList)-1)\n",
        "    ImageName = imageList[randomImageNum]\n",
        "    WriteFile(folderName,ImageName)\n",
        "    src = f\"{directory_root}/{folderName}/{ImageName}\"\n",
        "    des = '/content/Test/'\n",
        "    shutil.move(src,des)\n",
        " \n",
        "def WriteFile(ClassName,ImageName):\n",
        "    f = open(\"TestFile.csv\",\"a+\")\n",
        "    f.write(ClassName+\"@#\"+ImageName+\"\\n\")"
      ],
      "execution_count": null,
      "outputs": []
    },
    {
      "cell_type": "code",
      "metadata": {
        "id": "NZddomsIfyOA",
        "colab_type": "code",
        "colab": {
          "base_uri": "https://localhost:8080/",
          "height": 34
        },
        "outputId": "d17b8722-efc2-4a27-b5cf-ade02810b6df"
      },
      "source": [
        " for i in tqdm.tqdm(range(0,50),position=0):\n",
        "    TestFileFolderCreate()"
      ],
      "execution_count": null,
      "outputs": [
        {
          "output_type": "stream",
          "text": [
            "100%|██████████| 50/50 [00:00<00:00, 759.76it/s]\n"
          ],
          "name": "stderr"
        }
      ]
    },
    {
      "cell_type": "markdown",
      "metadata": {
        "id": "X3S61p9ogZre",
        "colab_type": "text"
      },
      "source": [
        "Creating zip file of Test Folder."
      ]
    },
    {
      "cell_type": "code",
      "metadata": {
        "id": "VwZEOwfOgg8q",
        "colab_type": "code",
        "colab": {
          "base_uri": "https://localhost:8080/",
          "height": 35
        },
        "outputId": "e76a8f0b-77cc-414c-e5c5-6b6a4a2cda4c"
      },
      "source": [
        "shutil.make_archive(\"TestActualFor\",\"zip\",\"/content/Test/\")"
      ],
      "execution_count": null,
      "outputs": [
        {
          "output_type": "execute_result",
          "data": {
            "application/vnd.google.colaboratory.intrinsic+json": {
              "type": "string"
            },
            "text/plain": [
              "'/content/TestActualFor.zip'"
            ]
          },
          "metadata": {
            "tags": []
          },
          "execution_count": 9
        }
      ]
    },
    {
      "cell_type": "markdown",
      "metadata": {
        "id": "LIVYqvc3hZHB",
        "colab_type": "text"
      },
      "source": [
        "Balancing Dataset by deleteting imagefiles and make them near to Mean Images"
      ]
    },
    {
      "cell_type": "code",
      "metadata": {
        "id": "BTfGzfnihkr0",
        "colab_type": "code",
        "colab": {
          "base_uri": "https://localhost:8080/",
          "height": 68
        },
        "outputId": "a03dad40-8654-44a5-d4e1-fcd8e0db18e6"
      },
      "source": [
        "import os\n",
        "NumBalanced = int(input(\"Enter Number where you want images Nearby : \\n[Recommended - 1200]\"))\n",
        "iterator = tqdm.tqdm(range(len(listdir(directory_root))),position=0)\n",
        "def deleteFile(imageList,pathFolder):\n",
        "    lengthOfImageList = len(imageList)\n",
        "    randomFileNumber = random.sample(range(0, lengthOfImageList-50), (lengthOfImageList-NumBalanced))\n",
        "    for j in randomFileNumber:\n",
        "        path = pathFolder +\"/\"+ imageList[j]\n",
        "        os.remove(path)\n",
        " \n",
        "root = listdir(directory_root)\n",
        "for i in iterator:\n",
        "    if i==(len(root)):\n",
        "        iterator.close()\n",
        "    st = str(i)\n",
        "    iterator.set_description(st)\n",
        "    pathFolder = f\"{directory_root}/{root[i]}\"\n",
        "    imagesTotal = len(listdir(pathFolder))\n",
        "    if imagesTotal > NumBalanced:\n",
        "        imagesList = listdir(pathFolder)\n",
        "        deleteFile(imagesList,pathFolder)"
      ],
      "execution_count": null,
      "outputs": [
        {
          "output_type": "stream",
          "text": [
            "Enter Number where you want images Nearby : \n",
            "[Recommended - 1200]1200\n"
          ],
          "name": "stdout"
        },
        {
          "output_type": "stream",
          "text": [
            "37: 100%|██████████| 38/38 [00:00<00:00, 42.11it/s]\n"
          ],
          "name": "stderr"
        }
      ]
    },
    {
      "cell_type": "code",
      "metadata": {
        "id": "DORuKP1AiMIc",
        "colab_type": "code",
        "colab": {
          "base_uri": "https://localhost:8080/",
          "height": 369
        },
        "outputId": "5d25a47f-84e9-4a60-a57a-434372caeea7"
      },
      "source": [
        " \n",
        "print(\"[INFO] Loading Data \")\n",
        "root_dir = listdir('/content/raw/color/')\n",
        "directory_root='/content/raw/color/'\n",
        "sumP = 0\n",
        "Y = []\n",
        " \n",
        " \n",
        "j=0\n",
        "for directory in root_dir :\n",
        "    plant_disease_image_list = listdir(f\"{directory_root}/{directory}\")\n",
        "    lenP = len(plant_disease_image_list)\n",
        "    Y.append (lenP)\n",
        "    j=j+1\n",
        "    #print(\"[IMAGES] Images : \" + str(lenP))\n",
        "    sumP += lenP\n",
        "   \n",
        "print(\"Total Images : \" + str(sumP))\n",
        "print(\"Mean of Images :\" + str(sumP/len(listdir(directory_root))))\n",
        "print(\"Standard Deviation :\"+str(np.std(Y)))\n",
        " \n",
        "#BarGraph\n",
        "plt.bar(range(0,len(root_dir)),Y)\n",
        "plt.xlabel(\"Class Name\")\n",
        "plt.ylabel(\"Number of Images\")\n",
        "plt.title(\"Number Of Images in every folder\")\n",
        "plt.show()"
      ],
      "execution_count": null,
      "outputs": [
        {
          "output_type": "stream",
          "text": [
            "[INFO] Loading Data \n",
            "Total Images : 35709\n",
            "Mean of Images :939.7105263157895\n",
            "Standard Deviation :332.67147599670795\n"
          ],
          "name": "stdout"
        },
        {
          "output_type": "display_data",
          "data": {
            "image/png": "[encoded data removed]",
            "text/plain": [
              "<Figure size 432x288 with 1 Axes>"
            ]
          },
          "metadata": {
            "tags": []
          }
        }
      ]
    },
    {
      "cell_type": "markdown",
      "metadata": {
        "id": "T14MwyUdi51_",
        "colab_type": "text"
      },
      "source": [
        "Moving File for TestGenerator"
      ]
    },
    {
      "cell_type": "markdown",
      "metadata": {
        "id": "UaO3K47wjIyz",
        "colab_type": "text"
      },
      "source": [
        "For every clasa we are moving 18 to 20 images"
      ]
    },
    {
      "cell_type": "code",
      "metadata": {
        "id": "8uR1GJxQjObt",
        "colab_type": "code",
        "colab": {}
      },
      "source": [
        "!mkdir testGenerator"
      ],
      "execution_count": null,
      "outputs": []
    },
    {
      "cell_type": "code",
      "metadata": {
        "id": "vXmcIHccjUXT",
        "colab_type": "code",
        "colab": {}
      },
      "source": [
        "from os.path import isfile , isdir"
      ],
      "execution_count": null,
      "outputs": []
    },
    {
      "cell_type": "code",
      "metadata": {
        "id": "qk7d72rpi-OK",
        "colab_type": "code",
        "colab": {
          "base_uri": "https://localhost:8080/",
          "height": 34
        },
        "outputId": "03ba3d88-fe0a-4ac3-d98a-770bbcbe5c36"
      },
      "source": [
        " iterator = tqdm.tqdm(range(38),position=0)\n",
        " \n",
        "folderlist = listdir(directory_root)\n",
        "validPath = '/content/testGenerator'\n",
        "for i in iterator:\n",
        "    folderName = folderlist[i]\n",
        "    os.mkdir(validPath+\"/\"+folderName)\n",
        "    folderPath = f\"{directory_root}/{folderName}\"\n",
        "    imageList = listdir(folderPath)\n",
        "    totalImage = random.randint(18,20)\n",
        "    for j in range(totalImage):\n",
        "        iterator.set_description(str(j)+\"/\"+str(totalImage))\n",
        "        imageRandom = random.randint(0,len(imageList)-1)\n",
        "        image = imageList[imageRandom]\n",
        "        imagePath = f\"{directory_root}/{folderName}/{image}\"\n",
        "        if isfile(validPath+\"/\"+folderName+\"/\"+image):\n",
        "            j = j-1\n",
        "            continue\n",
        "        else:\n",
        "            src = imagePath\n",
        "            desc = validPath+\"/\"+folderName+\"/\"+image\n",
        "            shutil.move(src,desc)"
      ],
      "execution_count": null,
      "outputs": [
        {
          "output_type": "stream",
          "text": [
            "18/19: 100%|██████████| 38/38 [00:00<00:00, 44.52it/s]\n"
          ],
          "name": "stderr"
        }
      ]
    },
    {
      "cell_type": "markdown",
      "metadata": {
        "id": "xSkj-jK_io92",
        "colab_type": "text"
      },
      "source": [
        "Augmentation"
      ]
    },
    {
      "cell_type": "code",
      "metadata": {
        "id": "5muvOvh8iXgU",
        "colab_type": "code",
        "colab": {}
      },
      "source": [
        " import random\n",
        "import cv2\n",
        "from matplotlib import pyplot as plt\n",
        "import albumentations as A\n",
        "from PIL import Image\n",
        "import string\n",
        "from skimage.io import imsave"
      ],
      "execution_count": null,
      "outputs": []
    },
    {
      "cell_type": "code",
      "metadata": {
        "id": "bUszj3A1in4e",
        "colab_type": "code",
        "colab": {}
      },
      "source": [
        " def Augmentation(imageP,SavePathFolder):\n",
        "    image = cv2.imread(imageP, cv2.IMREAD_UNCHANGED)\n",
        "    image = cv2.cvtColor(image, cv2.COLOR_BGR2RGB)\n",
        "    brightnessLimit = round(random.random() * 5) # 0-1 range x 5 ese hi eandom dala mne ok\n",
        "    brightnessP = np.around(random.random(),decimals=2) ##probability  ok \n",
        "    rotateLimit = random.randint(0,360)\n",
        "    rotateP = np.around(random.random(),decimals=1)\n",
        "    verticalFlipP = np.around(random.random(),decimals=2)\n",
        "    HorFlipP = np.around(random.random(),decimals=2)\n",
        "    motionBP = np.around(random.random(),decimals=2)\n",
        "    medianBP = np.around(random.random(),decimals=2)\n",
        "    blurLim =  random.randint(3,5)\n",
        "    blurL = random.randint(3,5)\n",
        "    blurP = np.around(random.random(),decimals=2)\n",
        "    ElasticTrasformAplhaLim = random.randint(50,255)\n",
        " \n",
        "    transform = A.Compose([\n",
        "    A.ToFloat(max_value=255.0),\n",
        "    A.RandomBrightness(limit=brightnessLimit,p=brightnessP),\n",
        "    A.RandomRotate90(),\n",
        "    A.Rotate(limit=rotateLimit,p=rotateP),\n",
        "    A.Flip(),\n",
        "    A.VerticalFlip(p=verticalFlipP),\n",
        "    A.HorizontalFlip(p=HorFlipP),       \n",
        "    A.OneOf([\n",
        "        A.MotionBlur(p=motionBP),\n",
        "        A.MedianBlur(blur_limit=blurLim, p=medianBP),\n",
        "        A.Blur(blur_limit=blurL, p=blurP),\n",
        "    ], p=0.2),\n",
        "    A.ElasticTransform(alpha=random.randint(50,255), sigma=random.randint(20,200), alpha_affine=random.randint(40,110), p=np.around(random.random(),decimals=2)),\n",
        "    #A.RandomGamma(gamma_limit=random.randint(60,100), p=np.around(random.random(),decimals=2)),\n",
        "    A.ShiftScaleRotate(shift_limit=0.0625, scale_limit=np.around(random.random(),decimals=1), rotate_limit=random.randint(30,50), p=np.around(random.random(),decimals=2)),\n",
        "    A.OneOf([\n",
        "        A.OpticalDistortion(p=np.around(random.random(), decimals=2)),\n",
        "        A.GridDistortion(p=np.around(random.random(),decimals=2)),\n",
        "    ], p=0.2),        \n",
        "    A.HueSaturationValue(hue_shift_limit=random.randint(10,20), sat_shift_limit=np.around(random.random(),decimals=2), val_shift_limit=np.around(random.random(),decimals=2), p=np.around(random.random(),decimals=2)),\n",
        "    A.FromFloat(max_value=255.0),\n",
        "    ])\n",
        "    augmented = transform(image=image)#yji to btara tha ,ki jo image hmne cv2 se imread kri , usko upar vale traform mae bheja okkokk\n",
        "    img = cv2.convertScaleAbs(augmented['image']) #valies ko scale kra , 0 - 1 ke bixh mae 0-255 ko hnji\n",
        "    letters = string.ascii_letters#ye imahe ka name bna rhe hai. ok ramdom name woth random abcd vageeaok\n",
        "    result_str = ''.join(random.choice(letters) for i in range(10))\n",
        "    #print('Image Name :'+str(result_str))\n",
        "    imsave(SavePathFolder+\"/\"+result_str+\".jpg\",img)"
      ],
      "execution_count": null,
      "outputs": []
    },
    {
      "cell_type": "markdown",
      "metadata": {
        "id": "YRvGx1yNkPJN",
        "colab_type": "text"
      },
      "source": [
        "Creating Images in every folder around 1200-1400"
      ]
    },
    {
      "cell_type": "code",
      "metadata": {
        "id": "zllfYaxhlS7L",
        "colab_type": "code",
        "colab": {}
      },
      "source": [
        " import warnings\n",
        "warnings.filterwarnings('ignore')\n",
        "warnings.simplefilter('ignore')"
      ],
      "execution_count": null,
      "outputs": []
    },
    {
      "cell_type": "code",
      "metadata": {
        "id": "YBcJrAybj7w6",
        "colab_type": "code",
        "colab": {
          "base_uri": "https://localhost:8080/",
          "height": 663
        },
        "outputId": "a480ba86-5b2e-46d5-e004-25fbc888155a"
      },
      "source": [
        "dir = listdir('/content/raw/color')\n",
        "k=0\n",
        "for imageFolder in dir:\n",
        "    st = \"[Folder] :\"+str(k)\n",
        "    folderPath = '/content/raw/color/'+imageFolder\n",
        "    imagesTotal = len(listdir(folderPath))\n",
        "    iterator = tqdm.tqdm(range(imagesTotal),position=0,desc=str(k))\n",
        "    GeneratingImages = random.randint(1200,1400)\n",
        "    requiredImages = GeneratingImages - imagesTotal\n",
        "    RIPERimages = requiredImages\n",
        "    if requiredImages <= 0:\n",
        "        k+=1\n",
        "        continue\n",
        "    imagesList = listdir(folderPath)\n",
        "    for i in iterator:\n",
        "        if requiredImages<=0:\n",
        "            iterator.update(imagesTotal)\n",
        "            iterator.close()\n",
        "            break\n",
        "        image = imagesList[i]\n",
        "        imagePath = folderPath+\"/\"+image\n",
        "        perimageHowManyGenerate = (requiredImages//imagesTotal)+2\n",
        "        destination = folderPath\n",
        "        requiredImages = requiredImages-perimageHowManyGenerate\n",
        "        st = str(round(((RIPERimages-requiredImages)/RIPERimages)*100))+\" %\"\n",
        "        iterator.set_description(str(k)+\" |\" +st)\n",
        "        if requiredImages <= 0:\n",
        "            iterator.update(imagesTotal)\n",
        "            iterator.close()\n",
        "            break\n",
        "        for i in range(0,perimageHowManyGenerate):\n",
        "            Augmentation(imagePath,destination)\n",
        "    k+=1"
      ],
      "execution_count": null,
      "outputs": [
        {
          "output_type": "stream",
          "text": [
            "0 |100 %: : 1125it [00:28, 39.41it/s]                      \n",
            "1 |100 %: : 1101it [00:34, 32.20it/s]                      \n",
            "2 |100 %: : 1218it [00:07, 166.93it/s]                     \n",
            "3 |100 %: : 1230it [00:08, 137.80it/s]                     \n",
            "4 |101 %: : 1280it [00:22, 56.52it/s]                      \n",
            "5 |100 %: : 839it [01:20, 10.39it/s]                       \n",
            "6 |100 %: : 797it [01:37,  8.14it/s]                       \n",
            "7 |100 %: : 1181it [00:04, 248.69it/s]                     \n",
            "8 |101 %: : 1147it [00:11, 99.29it/s]                      \n",
            "9 |100 %: : 972it [01:21, 11.89it/s]                       \n",
            "10 |100 %: : 1095it [00:27, 40.01it/s]                      \n",
            "11 |100 %: 100%|██████████| 352/352 [01:38<00:00,  3.58it/s]\n",
            "12 |100 %: : 1206it [00:05, 213.63it/s]                     \n",
            "13 |100 %: : 1277it [00:20, 62.09it/s]                      \n",
            "14 |101 %: : 1218it [00:08, 137.02it/s]                     \n",
            "15 |101 %: : 1250it [00:13, 95.77it/s]                      \n",
            "16 |101 %: : 1218it [00:09, 129.94it/s]                     \n",
            "17 |100 %: : 1133it [00:33, 33.79it/s]                      \n",
            "18 |100 %: : 1143it [00:36, 31.70it/s]                      \n",
            "19 |75 %: 100%|██████████| 131/131 [01:29<00:00,  1.46it/s]\n",
            "20 |100 %: : 1196it [00:04, 258.99it/s]                     \n",
            "21 |100 %: : 1265it [00:18, 68.24it/s]                      \n",
            "22 |100 %: : 1255it [00:17, 71.41it/s]                      \n",
            "23 |100 %: : 1127it [00:31, 35.75it/s]                      \n",
            "24 |102 %: : 1200it [00:04, 270.81it/s]                     \n",
            "25 |100 %: : 1217it [00:34, 35.40it/s]                       \n",
            "26 |100 %: : 1081it [00:50, 21.51it/s]                      \n",
            "27 |101 %: : 1268it [00:15, 80.34it/s]                      \n",
            "28 |100 %: : 1117it [00:17, 63.47it/s]                      \n",
            "29 |100 %: : 766it [01:39,  7.69it/s]                       \n",
            "30 |100 %: : 935it [01:14, 12.47it/s]                       \n",
            "31 |100 %: : 1263it [00:18, 70.08it/s]                      \n",
            "32 |100 %: : 707it [01:37,  7.26it/s]                       \n",
            "33 |100 %: : 1236it [00:21, 57.07it/s]                      \n",
            "34 |100 %: : 1207it [00:05, 206.95it/s]                     \n",
            "35 |87 %: 100%|██████████| 255/255 [01:28<00:00,  2.89it/s]\n",
            "36 |97 %: 100%|██████████| 339/339 [01:38<00:00,  3.45it/s]\n",
            "37 |100 %: : 1232it [00:11, 106.59it/s]                     \n"
          ],
          "name": "stderr"
        }
      ]
    },
    {
      "cell_type": "markdown",
      "metadata": {
        "id": "HXpbVrdJrssO",
        "colab_type": "text"
      },
      "source": [
        "Data Visualization After Augmentation"
      ]
    },
    {
      "cell_type": "code",
      "metadata": {
        "id": "vI5IqoOlrhli",
        "colab_type": "code",
        "colab": {
          "base_uri": "https://localhost:8080/",
          "height": 369
        },
        "outputId": "15efcaf2-305f-4884-f419-e0bb5e86b8e6"
      },
      "source": [
        " \n",
        "print(\"[INFO] Loading Data \")\n",
        "root_dir = listdir('/content/raw/color/')\n",
        "directory_root='/content/raw/color/'\n",
        "sumP = 0\n",
        "Y = []\n",
        " \n",
        " \n",
        "j=0\n",
        "for directory in root_dir :\n",
        "    plant_disease_image_list = listdir(f\"{directory_root}/{directory}\")\n",
        "    lenP = len(plant_disease_image_list)\n",
        "    Y.append (lenP)\n",
        "    j=j+1\n",
        "    #print(\"[IMAGES] Images : \" + str(lenP))\n",
        "    sumP += lenP\n",
        "   \n",
        "print(\"Total Images : \" + str(sumP))\n",
        "print(\"Mean of Images :\" + str(sumP/len(listdir(directory_root))))\n",
        "print(\"Standard Deviation :\"+str(np.std(Y)))\n",
        " \n",
        "#BarGraph\n",
        "plt.bar(range(0,len(root_dir)),Y)\n",
        "plt.xlabel(\"Class Name\")\n",
        "plt.ylabel(\"Number of Images\")\n",
        "plt.title(\"Number Of Images in every folder\")\n",
        "plt.show()"
      ],
      "execution_count": null,
      "outputs": [
        {
          "output_type": "stream",
          "text": [
            "[INFO] Loading Data \n",
            "Total Images : 48504\n",
            "Mean of Images :1276.421052631579\n",
            "Standard Deviation :80.51761218873904\n"
          ],
          "name": "stdout"
        },
        {
          "output_type": "display_data",
          "data": {
            "image/png": "[encoded data removed]",
            "text/plain": [
              "<Figure size 432x288 with 1 Axes>"
            ]
          },
          "metadata": {
            "tags": []
          }
        }
      ]
    },
    {
      "cell_type": "markdown",
      "metadata": {
        "id": "lA8C7Bver4s6",
        "colab_type": "text"
      },
      "source": [
        "Creating Zip Files"
      ]
    },
    {
      "cell_type": "code",
      "metadata": {
        "id": "96k3rg7kr3aK",
        "colab_type": "code",
        "colab": {
          "base_uri": "https://localhost:8080/",
          "height": 35
        },
        "outputId": "00c7aafd-1bb1-461a-eacf-9b83c6fa0314"
      },
      "source": [
        "shutil.make_archive(\"TestGenerator\",\"zip\",\"/content/testGenerator/\")"
      ],
      "execution_count": null,
      "outputs": [
        {
          "output_type": "execute_result",
          "data": {
            "application/vnd.google.colaboratory.intrinsic+json": {
              "type": "string"
            },
            "text/plain": [
              "'/content/TestGenerator.zip'"
            ]
          },
          "metadata": {
            "tags": []
          },
          "execution_count": 20
        }
      ]
    },
    {
      "cell_type": "code",
      "metadata": {
        "id": "4ZC8TW8GsP8x",
        "colab_type": "code",
        "colab": {
          "base_uri": "https://localhost:8080/",
          "height": 35
        },
        "outputId": "7874a8c6-fb1d-46aa-8a63-e886e902891b"
      },
      "source": [
        "shutil.make_archive(\"DatasetNew\",\"zip\",\"/content/raw/color/\")"
      ],
      "execution_count": null,
      "outputs": [
        {
          "output_type": "execute_result",
          "data": {
            "application/vnd.google.colaboratory.intrinsic+json": {
              "type": "string"
            },
            "text/plain": [
              "'/content/DatasetNew.zip'"
            ]
          },
          "metadata": {
            "tags": []
          },
          "execution_count": 21
        }
      ]
    },
    {
      "cell_type": "code",
      "metadata": {
        "id": "tYMD9BfNyH7-",
        "colab_type": "code",
        "colab": {}
      },
      "source": [
        ""
      ],
      "execution_count": null,
      "outputs": []
    }
  ]
}