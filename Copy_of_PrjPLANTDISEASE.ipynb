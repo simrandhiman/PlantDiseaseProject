{
  "nbformat": 4,
  "nbformat_minor": 0,
  "metadata": {
    "colab": {
      "name": "Copy of PrjPLANTDISEASE.ipynb",
      "provenance": [],
      "collapsed_sections": [],
      "include_colab_link": true
    },
    "kernelspec": {
      "name": "python3",
      "display_name": "Python 3"
    },
    "accelerator": "GPU"
  },
  "cells": [
    {
      "cell_type": "markdown",
      "metadata": {
        "id": "view-in-github",
        "colab_type": "text"
      },
      "source": [
        "<a href=\"https://colab.research.google.com/github/simrandhiman/PlantDiseaseProject/blob/master/Copy_of_PrjPLANTDISEASE.ipynb\" target=\"_parent\"><img src=\"https://colab.research.google.com/assets/colab-badge.svg\" alt=\"Open In Colab\"/></a>"
      ]
    },
    {
      "cell_type": "markdown",
      "metadata": {
        "id": "b0geZLvK3ZnH",
        "colab_type": "text"
      },
      "source": [
        "**<h1>Project Name : </h1>**\n",
        "**<h2>Description : </h2>**\n",
        "**<h2>Team Members :</h2>**\n",
        "\n",
        "1.   Name 1\n",
        "2.   Name 2\n",
        "3.   Name 3\n",
        "4.   Name 4\n",
        "5.   Name 5\n",
        "\n"
      ]
    },
    {
      "cell_type": "code",
      "metadata": {
        "id": "tnl6FJ8KNfKv",
        "colab_type": "code",
        "colab": {
          "base_uri": "https://localhost:8080/",
          "height": 119
        },
        "outputId": "984e1e28-31c8-49ec-cdbf-0636ee259635"
      },
      "source": [
        "#Downloading Dataset\n",
        "!git clone https://github.com/spMohanty/PlantVillage-Dataset.git"
      ],
      "execution_count": null,
      "outputs": [
        {
          "output_type": "stream",
          "text": [
            "Cloning into 'PlantVillage-Dataset'...\n",
            "remote: Enumerating objects: 163229, done.\u001b[K\n",
            "remote: Total 163229 (delta 0), reused 0 (delta 0), pack-reused 163229\u001b[K\n",
            "Receiving objects: 100% (163229/163229), 2.00 GiB | 23.03 MiB/s, done.\n",
            "Resolving deltas: 100% (99/99), done.\n",
            "Checking out files: 100% (182401/182401), done.\n"
          ],
          "name": "stdout"
        }
      ]
    },
    {
      "cell_type": "code",
      "metadata": {
        "id": "-CvJFoG9SSyS",
        "colab_type": "code",
        "colab": {
          "base_uri": "https://localhost:8080/",
          "height": 309
        },
        "outputId": "6d1d225c-d6d9-4484-981b-7d76258a7d93"
      },
      "source": [
        "!wget https://data.mendeley.com/datasets/tywbtsjrjv/1/files/b4e3a32f-c0bd-4060-81e9-6144231f2520/Plant_leaf_diseases_dataset_with_augmentation.zip?dl=1"
      ],
      "execution_count": null,
      "outputs": [
        {
          "output_type": "stream",
          "text": [
            "--2020-07-20 17:33:29--  https://data.mendeley.com/datasets/tywbtsjrjv/1/files/b4e3a32f-c0bd-4060-81e9-6144231f2520/Plant_leaf_diseases_dataset_with_augmentation.zip?dl=1\n",
            "Resolving data.mendeley.com (data.mendeley.com)... 162.159.133.86, 162.159.130.86, 2606:4700:7::a29f:8256, ...\n",
            "Connecting to data.mendeley.com (data.mendeley.com)|162.159.133.86|:443... connected.\n",
            "HTTP request sent, awaiting response... 302 Found\n",
            "Location: https://md-datasets-public-files-prod.s3.eu-west-1.amazonaws.com/349ac012-2948-4172-bbba-3bf8f76596fd [following]\n",
            "--2020-07-20 17:33:29--  https://md-datasets-public-files-prod.s3.eu-west-1.amazonaws.com/349ac012-2948-4172-bbba-3bf8f76596fd\n",
            "Resolving md-datasets-public-files-prod.s3.eu-west-1.amazonaws.com (md-datasets-public-files-prod.s3.eu-west-1.amazonaws.com)... 52.218.40.32\n",
            "Connecting to md-datasets-public-files-prod.s3.eu-west-1.amazonaws.com (md-datasets-public-files-prod.s3.eu-west-1.amazonaws.com)|52.218.40.32|:443... connected.\n",
            "HTTP request sent, awaiting response... 200 OK\n",
            "Length: 949267727 (905M) [application/zip]\n",
            "Saving to: ‘Plant_leaf_diseases_dataset_with_augmentation.zip?dl=1’\n",
            "\n",
            "Plant_leaf_diseases 100%[===================>] 905.29M  41.8MB/s    in 21s     \n",
            "\n",
            "2020-07-20 17:33:51 (43.3 MB/s) - ‘Plant_leaf_diseases_dataset_with_augmentation.zip?dl=1’ saved [949267727/949267727]\n",
            "\n"
          ],
          "name": "stdout"
        }
      ]
    },
    {
      "cell_type": "code",
      "metadata": {
        "id": "zltWDTHlSo5C",
        "colab_type": "code",
        "colab": {}
      },
      "source": [
        "import zipfile\n",
        "with zipfile.ZipFile('/content/Dataset', 'r') as zip_ref:\n",
        "    zip_ref.extractall('/content/')"
      ],
      "execution_count": null,
      "outputs": []
    },
    {
      "cell_type": "code",
      "metadata": {
        "id": "dacgQTAfSo0m",
        "colab_type": "code",
        "colab": {}
      },
      "source": [
        ""
      ],
      "execution_count": null,
      "outputs": []
    },
    {
      "cell_type": "code",
      "metadata": {
        "id": "qWS10WJ3BcYC",
        "colab_type": "code",
        "colab": {
          "base_uri": "https://localhost:8080/",
          "height": 153
        },
        "outputId": "14ee848d-12ca-4a03-c191-64238fd21646"
      },
      "source": [
        "!git clone https://github.com/pratikkayal/PlantDoc-Dataset"
      ],
      "execution_count": null,
      "outputs": [
        {
          "output_type": "stream",
          "text": [
            "Cloning into 'PlantDoc-Dataset'...\n",
            "remote: Enumerating objects: 30, done.\u001b[K\n",
            "remote: Counting objects:   3% (1/30)\u001b[K\rremote: Counting objects:   6% (2/30)\u001b[K\rremote: Counting objects:  10% (3/30)\u001b[K\rremote: Counting objects:  13% (4/30)\u001b[K\rremote: Counting objects:  16% (5/30)\u001b[K\rremote: Counting objects:  20% (6/30)\u001b[K\rremote: Counting objects:  23% (7/30)\u001b[K\rremote: Counting objects:  26% (8/30)\u001b[K\rremote: Counting objects:  30% (9/30)\u001b[K\rremote: Counting objects:  33% (10/30)\u001b[K\rremote: Counting objects:  36% (11/30)\u001b[K\rremote: Counting objects:  40% (12/30)\u001b[K\rremote: Counting objects:  43% (13/30)\u001b[K\rremote: Counting objects:  46% (14/30)\u001b[K\rremote: Counting objects:  50% (15/30)\u001b[K\rremote: Counting objects:  53% (16/30)\u001b[K\rremote: Counting objects:  56% (17/30)\u001b[K\rremote: Counting objects:  60% (18/30)\u001b[K\rremote: Counting objects:  63% (19/30)\u001b[K\rremote: Counting objects:  66% (20/30)\u001b[K\rremote: Counting objects:  70% (21/30)\u001b[K\rremote: Counting objects:  73% (22/30)\u001b[K\rremote: Counting objects:  76% (23/30)\u001b[K\rremote: Counting objects:  80% (24/30)\u001b[K\rremote: Counting objects:  83% (25/30)\u001b[K\rremote: Counting objects:  86% (26/30)\u001b[K\rremote: Counting objects:  90% (27/30)\u001b[K\rremote: Counting objects:  93% (28/30)\u001b[K\rremote: Counting objects:  96% (29/30)\u001b[K\rremote: Counting objects: 100% (30/30)\u001b[K\rremote: Counting objects: 100% (30/30), done.\u001b[K\n",
            "remote: Compressing objects: 100% (30/30), done.\u001b[K\n",
            "remote: Total 2658 (delta 17), reused 0 (delta 0), pack-reused 2628\u001b[K\n",
            "Receiving objects: 100% (2658/2658), 932.25 MiB | 20.66 MiB/s, done.\n",
            "Resolving deltas: 100% (18/18), done.\n",
            "Checking out files: 100% (2580/2580), done.\n"
          ],
          "name": "stdout"
        }
      ]
    },
    {
      "cell_type": "code",
      "metadata": {
        "id": "-KbyalTP9k3i",
        "colab_type": "code",
        "colab": {}
      },
      "source": [
        ""
      ],
      "execution_count": null,
      "outputs": []
    },
    {
      "cell_type": "code",
      "metadata": {
        "id": "fNnf2Xyoh-dw",
        "colab_type": "code",
        "colab": {
          "base_uri": "https://localhost:8080/",
          "height": 34
        },
        "outputId": "cd57e2f2-f483-44f2-d7bb-7da2f049a607"
      },
      "source": [
        "from os import listdir\n",
        "import cv2\n",
        "from keras.preprocessing import image\n",
        "from keras.preprocessing.image import img_to_array\n",
        "from keras.preprocessing.image import ImageDataGenerator"
      ],
      "execution_count": null,
      "outputs": [
        {
          "output_type": "stream",
          "text": [
            "Using TensorFlow backend.\n"
          ],
          "name": "stderr"
        }
      ]
    },
    {
      "cell_type": "code",
      "metadata": {
        "id": "aEioOMPY_MLV",
        "colab_type": "code",
        "colab": {}
      },
      "source": [
        "#initialization\n",
        "directory_path='/content/PlantVillage-Dataset/raw/color'"
      ],
      "execution_count": null,
      "outputs": []
    },
    {
      "cell_type": "code",
      "metadata": {
        "id": "KgbhoD7C_gvj",
        "colab_type": "code",
        "colab": {}
      },
      "source": [
        "rootdir=listdir(directory_path)\n"
      ],
      "execution_count": null,
      "outputs": []
    },
    {
      "cell_type": "code",
      "metadata": {
        "id": "PQ4P2xJGZA5T",
        "colab_type": "code",
        "colab": {}
      },
      "source": [
        "#from google.colab import drive\n",
        "##drive.mount('/content/drive')"
      ],
      "execution_count": null,
      "outputs": []
    },
    {
      "cell_type": "code",
      "metadata": {
        "id": "W7yWl_7iC1Yg",
        "colab_type": "code",
        "colab": {}
      },
      "source": [
        "def convert_image_to_array(image_dir): ##isme convert krege  array m images\n",
        "    try:\n",
        "        image = cv2.imread(image_dir)\n",
        "        if image is not None :\n",
        "            image = cv2.resize(image, (256,256))   \n",
        "            return img_to_array(image)\n",
        "        else :\n",
        "            return np.array([])\n",
        "    except Exception as e: ##isme?? ye error btayega agar koi error aata hai to#ye jo try except hota if else ki trh hota hai , agar try vala kaam ni kia to except mae eror ko catch krke print krega.\n",
        "        print(f\"Error : {e}\")\n",
        "        return None"
      ],
      "execution_count": null,
      "outputs": []
    },
    {
      "cell_type": "code",
      "metadata": {
        "id": "NVIoFLb9_swX",
        "colab_type": "code",
        "colab": {}
      },
      "source": [
        "##isme hmari ram bhot consume \n",
        "#hanji , because of function convert image to array\n",
        "# hr ek image ki value = 256 x 256 x 3 = 190000+ hai\n",
        "# hmarr paas total 54000+ images hai\n",
        "# to 54000 values ke liye around 109 Crore + values ho rhi hai \n",
        "# 54000 x 256 x 256 x 3\n",
        "# to usse bhtt ram bhr rhi hai , 12GB bhi kum pd gyi \n",
        "#image_list = []\n",
        "#for classFolder in rootdir:\n",
        "  #imageFolderPath = listdir(f\"{directory_path}/{classFolder}\")\n",
        "  #for image in imageFolderPath:\n",
        "  # imagePath = f\"{directory_path}/{classFolder}/{image}\"\n",
        "   # image_list.append(convert_image_to_array(imagePath))"
      ],
      "execution_count": null,
      "outputs": []
    },
    {
      "cell_type": "code",
      "metadata": {
        "id": "6s6W7SzjAgsK",
        "colab_type": "code",
        "colab": {
          "base_uri": "https://localhost:8080/",
          "height": 1000
        },
        "outputId": "4b924406-0004-4aee-e06b-0fc5e9713264"
      },
      "source": [
        "print(\"[INFO] LOADING DATA...\") ##isme hmm hr ek folder mae kitni images hai , vo dekh rhe hai okkk\n",
        "import numpy as np\n",
        "Y = 0\n",
        "forStd = []\n",
        "for classFolder in rootdir:\n",
        "  print(\"[FOLDER] \"+classFolder)\n",
        "  imageFolderPath = listdir(f\"{directory_path}/{classFolder}\")\n",
        "  lengthImages = len(imageFolderPath)\n",
        "  print(lengthImages)\n",
        "  print()\n",
        "  forStd.append(lengthImages)\n",
        "  Y+=lengthImages\n",
        "  #print(\"Images : \"+str(lengthImages))\n",
        "print(\"Total Images : \" +str(Y))\n",
        "print(\"Average Images : \"+str(Y/len(rootdir)))\n",
        "print(\"Deviation : \"+str((np.std(forStd)/Y) *100))"
      ],
      "execution_count": null,
      "outputs": [
        {
          "output_type": "stream",
          "text": [
            "[INFO] LOADING DATA...\n",
            "[FOLDER] Tomato___Spider_mites Two-spotted_spider_mite\n",
            "1676\n",
            "\n",
            "[FOLDER] Pepper,_bell___Bacterial_spot\n",
            "997\n",
            "\n",
            "[FOLDER] Tomato___Tomato_Yellow_Leaf_Curl_Virus\n",
            "5357\n",
            "\n",
            "[FOLDER] Cherry_(including_sour)___healthy\n",
            "854\n",
            "\n",
            "[FOLDER] Tomato___Late_blight\n",
            "1909\n",
            "\n",
            "[FOLDER] Corn_(maize)___Cercospora_leaf_spot Gray_leaf_spot\n",
            "513\n",
            "\n",
            "[FOLDER] Grape___Black_rot\n",
            "1180\n",
            "\n",
            "[FOLDER] Raspberry___healthy\n",
            "371\n",
            "\n",
            "[FOLDER] Apple___Cedar_apple_rust\n",
            "275\n",
            "\n",
            "[FOLDER] Grape___Esca_(Black_Measles)\n",
            "1383\n",
            "\n",
            "[FOLDER] Apple___healthy\n",
            "1645\n",
            "\n",
            "[FOLDER] Corn_(maize)___Common_rust_\n",
            "1192\n",
            "\n",
            "[FOLDER] Tomato___Leaf_Mold\n",
            "952\n",
            "\n",
            "[FOLDER] Potato___Early_blight\n",
            "1000\n",
            "\n",
            "[FOLDER] Corn_(maize)___Northern_Leaf_Blight\n",
            "985\n",
            "\n",
            "[FOLDER] Blueberry___healthy\n",
            "1502\n",
            "\n",
            "[FOLDER] Potato___Late_blight\n",
            "1000\n",
            "\n",
            "[FOLDER] Tomato___Tomato_mosaic_virus\n",
            "373\n",
            "\n",
            "[FOLDER] Grape___healthy\n",
            "423\n",
            "\n",
            "[FOLDER] Potato___healthy\n",
            "152\n",
            "\n",
            "[FOLDER] Tomato___healthy\n",
            "1591\n",
            "\n",
            "[FOLDER] Tomato___Septoria_leaf_spot\n",
            "1771\n",
            "\n",
            "[FOLDER] Tomato___Bacterial_spot\n",
            "2127\n",
            "\n",
            "[FOLDER] Strawberry___healthy\n",
            "456\n",
            "\n",
            "[FOLDER] Soybean___healthy\n",
            "5090\n",
            "\n",
            "[FOLDER] Corn_(maize)___healthy\n",
            "1162\n",
            "\n",
            "[FOLDER] Peach___healthy\n",
            "360\n",
            "\n",
            "[FOLDER] Cherry_(including_sour)___Powdery_mildew\n",
            "1052\n",
            "\n",
            "[FOLDER] Pepper,_bell___healthy\n",
            "1478\n",
            "\n",
            "[FOLDER] Strawberry___Leaf_scorch\n",
            "1109\n",
            "\n",
            "[FOLDER] Tomato___Target_Spot\n",
            "1404\n",
            "\n",
            "[FOLDER] Peach___Bacterial_spot\n",
            "2297\n",
            "\n",
            "[FOLDER] Apple___Black_rot\n",
            "621\n",
            "\n",
            "[FOLDER] Apple___Apple_scab\n",
            "630\n",
            "\n",
            "[FOLDER] Orange___Haunglongbing_(Citrus_greening)\n",
            "5507\n",
            "\n",
            "[FOLDER] Tomato___Early_blight\n",
            "1000\n",
            "\n",
            "[FOLDER] Grape___Leaf_blight_(Isariopsis_Leaf_Spot)\n",
            "1076\n",
            "\n",
            "[FOLDER] Squash___Powdery_mildew\n",
            "1835\n",
            "\n",
            "Total Images : 54305\n",
            "Average Images : 1429.078947368421\n",
            "Deviation : 2.310825555153578\n"
          ],
          "name": "stdout"
        }
      ]
    },
    {
      "cell_type": "code",
      "metadata": {
        "id": "g-wkD2xcCF3x",
        "colab_type": "code",
        "colab": {
          "base_uri": "https://localhost:8080/",
          "height": 1000
        },
        "outputId": "27f5c059-74ae-4b48-ffba-2091179d6480"
      },
      "source": [
        "print(\"[INFO] LOADING DATA...\") ##isme hmm hr ek folder mae kitni images hai , vo dekh rhe hai okkk\n",
        "import numpy as np\n",
        "import matplotlib.pyplot as plt\n",
        "\n",
        "rootdi2r = listdir(\"/content/Plant_leave_diseases_dataset_with_augmentation\")\n",
        "Y = 0\n",
        "forStd = []\n",
        "for classFolder in rootdi2r:\n",
        "  #print(\"[FOLDER] \"+classFolder)\n",
        "  imageFolderPath = listdir(f\"/content/Plant_leave_diseases_dataset_with_augmentation/{classFolder}\")\n",
        "  lengthImages = len(imageFolderPath)\n",
        "  forStd.append(lengthImages)\n",
        "  Y+=lengthImages\n",
        "  #print(\"Images : \"+str(lengthImages))\n",
        "  print()\n",
        "print(\"Total Images : \" +str(Y))\n",
        "print(\"Average Images : \"+str(Y/len(rootdir)))\n",
        "print(\"Standar Deviation : \"+str(np.std(forStd)))\n",
        "plt.bar(range(0,len(rootdi2r)),forStd)\n",
        "plt.xlabel(\"Class Number\")\n",
        "plt.ylabel(\"Number of Images\")\n",
        "plt.title(\"Number Of Images in every folder\")\n",
        "plt.show()\n"
      ],
      "execution_count": null,
      "outputs": [
        {
          "output_type": "stream",
          "text": [
            "[INFO] LOADING DATA...\n",
            "\n",
            "\n",
            "\n",
            "\n",
            "\n",
            "\n",
            "\n",
            "\n",
            "\n",
            "\n",
            "\n",
            "\n",
            "\n",
            "\n",
            "\n",
            "\n",
            "\n",
            "\n",
            "\n",
            "\n",
            "\n",
            "\n",
            "\n",
            "\n",
            "\n",
            "\n",
            "\n",
            "\n",
            "\n",
            "\n",
            "\n",
            "\n",
            "\n",
            "\n",
            "\n",
            "\n",
            "\n",
            "\n",
            "\n",
            "Total Images : 61486\n",
            "Average Images : 1618.0526315789473\n",
            "Standar Deviation : 1135.4345783832273\n"
          ],
          "name": "stdout"
        },
        {
          "output_type": "display_data",
          "data": {
            "image/png": "[encoded data removed]",
            "text/plain": [
              "<Figure size 432x288 with 1 Axes>"
            ]
          },
          "metadata": {
            "tags": [],
            "needs_background": "light"
          }
        }
      ]
    },
    {
      "cell_type": "code",
      "metadata": {
        "id": "Md6LXnrEYS49",
        "colab_type": "code",
        "colab": {
          "base_uri": "https://localhost:8080/",
          "height": 68
        },
        "outputId": "35c0ec3a-c12c-4fc5-86bb-7aeed6d29d07"
      },
      "source": [
        "import tqdm\n",
        "import os\n",
        "import random\n",
        "directory_root= \"/content/Plant_leave_diseases_dataset_with_augmentation\"\n",
        "iterator = tqdm.tqdm(range(len(listdir(directory_root))),position=0)\n",
        "#tqdm ek progrss bar hai , jese traning ke tym tha na ====>>> ye vala ese hi ye hai achaaa\n",
        "def deleteFile(imageList,pathFolder):\n",
        "    lengthOfImageList = len(imageList)\n",
        "    randomFileNumber = random.sample(range(0, lengthOfImageList-50), (lengthOfImageList-1200))#ye\n",
        "    # ye 0 se jitni images hogi usse 50 kum\n",
        "     #hjoegseycear\n",
        "     #suno to thk se\n",
        "     #list generate krega agar 2000 images hai\n",
        "     #to 0 se 1950 tk random numbers ki list generate krega , us list ka soze hoga 800 2000-1200 = 800\n",
        "     #mtlb hum 800 images ko delete krenge\n",
        "     #fr okok niche ka code aap smjhgye ? hnji esa kuch kbhi ho na , crtl+z dbda dena.okk ji  aage sb same , train test dekhata\n",
        "    #print(randomFileNumber)\n",
        "    for j in randomFileNumber:\n",
        "        path = pathFolder +\"/\"+ imageList[j]\n",
        "        os.remove(path)\n",
        "\n",
        "root = listdir(directory_root)\n",
        "print(range(len(root)))\n",
        "print(range(len(iterator)))\n",
        "for i in iterator:\n",
        "    if i==(len(root)):\n",
        "        iterator.close()\n",
        "    st = str(i)\n",
        "    iterator.set_description(st)\n",
        "    pathFolder = f\"{directory_root}/{root[i]}\"\n",
        "    imagesTotal = len(listdir(pathFolder))\n",
        "    if imagesTotal > 1200:\n",
        "        imagesList = listdir(pathFolder)\n",
        "        deleteFile(imagesList,pathFolder)\n",
        "#"
      ],
      "execution_count": null,
      "outputs": [
        {
          "output_type": "stream",
          "text": [
            "38: 100%|██████████| 39/39 [00:00<00:00, 414.02it/s]"
          ],
          "name": "stderr"
        },
        {
          "output_type": "stream",
          "text": [
            "range(0, 39)\n",
            "range(0, 39)\n"
          ],
          "name": "stdout"
        },
        {
          "output_type": "stream",
          "text": [
            "\n"
          ],
          "name": "stderr"
        }
      ]
    },
    {
      "cell_type": "code",
      "metadata": {
        "id": "1pZUbeknZSaK",
        "colab_type": "code",
        "colab": {
          "base_uri": "https://localhost:8080/",
          "height": 1000
        },
        "outputId": "04dbacc6-3c6a-4434-f66f-33f9a7af5dde"
      },
      "source": [
        "print(\"[INFO] LOADING DATA...\") ##isme hmm hr ek folder mae kitni images hai , vo dekh rhe hai okkk\n",
        "import numpy as np\n",
        "import matplotlib.pyplot as plt\n",
        "\n",
        "rootdi2r = listdir(\"/content/Plant_leave_diseases_dataset_with_augmentation\")\n",
        "Y = 0\n",
        "forStd = []\n",
        "for classFolder in rootdi2r:\n",
        "  #print(\"[FOLDER] \"+classFolder)\n",
        "  imageFolderPath = listdir(f\"/content/Plant_leave_diseases_dataset_with_augmentation/{classFolder}\")\n",
        "  lengthImages = len(imageFolderPath)\n",
        "  forStd.append(lengthImages)\n",
        "  Y+=lengthImages\n",
        "  #print(\"Images : \"+str(lengthImages))\n",
        "  print()\n",
        "print(\"Total Images : \" +str(Y))\n",
        "print(\"Average Images : \"+str(Y/len(rootdir)))\n",
        "print(\"Standar Deviation : \"+str(np.std(forStd)))\n",
        "plt.bar(range(0,len(rootdi2r)),forStd)\n",
        "plt.xlabel(\"Class Number\")\n",
        "plt.ylabel(\"Number of Images\")\n",
        "plt.title(\"Number Of Images in every folder\")\n",
        "plt.show()\n"
      ],
      "execution_count": null,
      "outputs": [
        {
          "output_type": "stream",
          "text": [
            "[INFO] LOADING DATA...\n",
            "\n",
            "\n",
            "\n",
            "\n",
            "\n",
            "\n",
            "\n",
            "\n",
            "\n",
            "\n",
            "\n",
            "\n",
            "\n",
            "\n",
            "\n",
            "\n",
            "\n",
            "\n",
            "\n",
            "\n",
            "\n",
            "\n",
            "\n",
            "\n",
            "\n",
            "\n",
            "\n",
            "\n",
            "\n",
            "\n",
            "\n",
            "\n",
            "\n",
            "\n",
            "\n",
            "\n",
            "\n",
            "\n",
            "\n",
            "Total Images : 42914\n",
            "Average Images : 1129.3157894736842\n",
            "Standar Deviation : 93.85107875545943\n"
          ],
          "name": "stdout"
        },
        {
          "output_type": "display_data",
          "data": {
            "image/png": "[encoded data removed]",
            "text/plain": [
              "<Figure size 432x288 with 1 Axes>"
            ]
          },
          "metadata": {
            "tags": [],
            "needs_background": "light"
          }
        }
      ]
    },
    {
      "cell_type": "code",
      "metadata": {
        "id": "VcrJGnIAZH1h",
        "colab_type": "code",
        "colab": {}
      },
      "source": [
        ""
      ],
      "execution_count": null,
      "outputs": []
    },
    {
      "cell_type": "code",
      "metadata": {
        "id": "-t5D-80xOKkd",
        "colab_type": "code",
        "colab": {}
      },
      "source": [
        "##iske bd hm keras use krke photo data ko load krke training and validation maensplit krenge okk"
      ],
      "execution_count": null,
      "outputs": []
    },
    {
      "cell_type": "code",
      "metadata": {
        "id": "2rkyRwn4_xj6",
        "colab_type": "code",
        "colab": {}
      },
      "source": [
        "#ImageDataGenerator keras ka function hai\n",
        "#Jisko use krke hum hmari picture ko scale kr re , zoom vagera, rotate kr re , or validation mae 20% data and training mae 80% data rkh rhe hai\n",
        "#shuffle b kra images ko aapas mae \n",
        "dataGeneration = ImageDataGenerator(validation_split=0.2,rotation_range=25,width_shift_range=0.1,height_shift_range=0.1,horizontal_flip=True,fill_mode=\"nearest\")"
      ],
      "execution_count": null,
      "outputs": []
    },
    {
      "cell_type": "code",
      "metadata": {
        "id": "RWXn0FsHIOpL",
        "colab_type": "code",
        "colab": {
          "base_uri": "https://localhost:8080/",
          "height": 34
        },
        "outputId": "9fdb6524-8f7d-4771-cd82-3a0192b7ec4a"
      },
      "source": [
        "#flow from directory ek DirectoryIterator hai mtlb hr ek directory mae jakr image utha rhi \n",
        "#frbus image ko dataGeneration mae jo store hai uske accoring convert kr rhi , usko grayscale mae convert \n",
        "#krke array bnakr Training dataset bna rhi , our training dataset is in trainGenerator okk\n",
        "trainGenerator =dataGeneration.flow_from_directory('/content/Plant_leave_diseases_dataset_with_augmentation',target_size=(256,256),batch_size=64,shuffle=True,class_mode=\"categorical\",subset=\"training\")"
      ],
      "execution_count": null,
      "outputs": [
        {
          "output_type": "stream",
          "text": [
            "Found 34334 images belonging to 39 classes.\n"
          ],
          "name": "stdout"
        }
      ]
    },
    {
      "cell_type": "code",
      "metadata": {
        "id": "gAKOVm4eJ3kk",
        "colab_type": "code",
        "colab": {
          "base_uri": "https://localhost:8080/",
          "height": 680
        },
        "outputId": "1d5a6800-1cf3-4b9a-c0ba-8244a64a9312"
      },
      "source": [
        "classes=trainGenerator.class_indices #show krne  k liye  with folder name\n",
        "j=0\n",
        "for i in classes:\n",
        "  print(str(j)+\". \"+i)\n",
        "  j = j+1"
      ],
      "execution_count": null,
      "outputs": [
        {
          "output_type": "stream",
          "text": [
            "0. Apple___Apple_scab\n",
            "1. Apple___Black_rot\n",
            "2. Apple___Cedar_apple_rust\n",
            "3. Apple___healthy\n",
            "4. Background_without_leaves\n",
            "5. Blueberry___healthy\n",
            "6. Cherry___Powdery_mildew\n",
            "7. Cherry___healthy\n",
            "8. Corn___Cercospora_leaf_spot Gray_leaf_spot\n",
            "9. Corn___Common_rust\n",
            "10. Corn___Northern_Leaf_Blight\n",
            "11. Corn___healthy\n",
            "12. Grape___Black_rot\n",
            "13. Grape___Esca_(Black_Measles)\n",
            "14. Grape___Leaf_blight_(Isariopsis_Leaf_Spot)\n",
            "15. Grape___healthy\n",
            "16. Orange___Haunglongbing_(Citrus_greening)\n",
            "17. Peach___Bacterial_spot\n",
            "18. Peach___healthy\n",
            "19. Pepper,_bell___Bacterial_spot\n",
            "20. Pepper,_bell___healthy\n",
            "21. Potato___Early_blight\n",
            "22. Potato___Late_blight\n",
            "23. Potato___healthy\n",
            "24. Raspberry___healthy\n",
            "25. Soybean___healthy\n",
            "26. Squash___Powdery_mildew\n",
            "27. Strawberry___Leaf_scorch\n",
            "28. Strawberry___healthy\n",
            "29. Tomato___Bacterial_spot\n",
            "30. Tomato___Early_blight\n",
            "31. Tomato___Late_blight\n",
            "32. Tomato___Leaf_Mold\n",
            "33. Tomato___Septoria_leaf_spot\n",
            "34. Tomato___Spider_mites Two-spotted_spider_mite\n",
            "35. Tomato___Target_Spot\n",
            "36. Tomato___Tomato_Yellow_Leaf_Curl_Virus\n",
            "37. Tomato___Tomato_mosaic_virus\n",
            "38. Tomato___healthy\n"
          ],
          "name": "stdout"
        }
      ]
    },
    {
      "cell_type": "code",
      "metadata": {
        "id": "q4a0UgqjI1Y7",
        "colab_type": "code",
        "colab": {
          "base_uri": "https://localhost:8080/",
          "height": 34
        },
        "outputId": "89e0a81e-6d37-430a-ddcb-23de1b678391"
      },
      "source": [
        "validGenerator =dataGeneration.flow_from_directory('/content/Plant_leave_diseases_dataset_with_augmentation',target_size=(256,256),batch_size=64,shuffle=True,class_mode=\"categorical\",subset=\"validation\")"
      ],
      "execution_count": null,
      "outputs": [
        {
          "output_type": "stream",
          "text": [
            "Found 8580 images belonging to 39 classes.\n"
          ],
          "name": "stdout"
        }
      ]
    },
    {
      "cell_type": "code",
      "metadata": {
        "id": "bsIllp_5Jl7b",
        "colab_type": "code",
        "colab": {
          "base_uri": "https://localhost:8080/",
          "height": 680
        },
        "outputId": "814903b4-a2dd-4e3d-bf22-49da55ba2267"
      },
      "source": [
        "trainGenerator.class_indices"
      ],
      "execution_count": null,
      "outputs": [
        {
          "output_type": "execute_result",
          "data": {
            "text/plain": [
              "{'Apple___Apple_scab': 0,\n",
              " 'Apple___Black_rot': 1,\n",
              " 'Apple___Cedar_apple_rust': 2,\n",
              " 'Apple___healthy': 3,\n",
              " 'Background_without_leaves': 4,\n",
              " 'Blueberry___healthy': 5,\n",
              " 'Cherry___Powdery_mildew': 6,\n",
              " 'Cherry___healthy': 7,\n",
              " 'Corn___Cercospora_leaf_spot Gray_leaf_spot': 8,\n",
              " 'Corn___Common_rust': 9,\n",
              " 'Corn___Northern_Leaf_Blight': 10,\n",
              " 'Corn___healthy': 11,\n",
              " 'Grape___Black_rot': 12,\n",
              " 'Grape___Esca_(Black_Measles)': 13,\n",
              " 'Grape___Leaf_blight_(Isariopsis_Leaf_Spot)': 14,\n",
              " 'Grape___healthy': 15,\n",
              " 'Orange___Haunglongbing_(Citrus_greening)': 16,\n",
              " 'Peach___Bacterial_spot': 17,\n",
              " 'Peach___healthy': 18,\n",
              " 'Pepper,_bell___Bacterial_spot': 19,\n",
              " 'Pepper,_bell___healthy': 20,\n",
              " 'Potato___Early_blight': 21,\n",
              " 'Potato___Late_blight': 22,\n",
              " 'Potato___healthy': 23,\n",
              " 'Raspberry___healthy': 24,\n",
              " 'Soybean___healthy': 25,\n",
              " 'Squash___Powdery_mildew': 26,\n",
              " 'Strawberry___Leaf_scorch': 27,\n",
              " 'Strawberry___healthy': 28,\n",
              " 'Tomato___Bacterial_spot': 29,\n",
              " 'Tomato___Early_blight': 30,\n",
              " 'Tomato___Late_blight': 31,\n",
              " 'Tomato___Leaf_Mold': 32,\n",
              " 'Tomato___Septoria_leaf_spot': 33,\n",
              " 'Tomato___Spider_mites Two-spotted_spider_mite': 34,\n",
              " 'Tomato___Target_Spot': 35,\n",
              " 'Tomato___Tomato_Yellow_Leaf_Curl_Virus': 36,\n",
              " 'Tomato___Tomato_mosaic_virus': 37,\n",
              " 'Tomato___healthy': 38}"
            ]
          },
          "metadata": {
            "tags": []
          },
          "execution_count": 46
        }
      ]
    },
    {
      "cell_type": "code",
      "metadata": {
        "id": "iYo0JIx7apMv",
        "colab_type": "code",
        "colab": {
          "base_uri": "https://localhost:8080/",
          "height": 34
        },
        "outputId": "649184ea-0575-4f64-c348-f201acac262b"
      },
      "source": [
        "trainGenerator.classes"
      ],
      "execution_count": null,
      "outputs": [
        {
          "output_type": "execute_result",
          "data": {
            "text/plain": [
              "array([ 0,  0,  0, ..., 38, 38, 38], dtype=int32)"
            ]
          },
          "metadata": {
            "tags": []
          },
          "execution_count": 47
        }
      ]
    },
    {
      "cell_type": "code",
      "metadata": {
        "id": "EotYkFU6pII4",
        "colab_type": "code",
        "colab": {}
      },
      "source": [
        "from keras.models import Sequential\n",
        "from keras.layers.normalization import BatchNormalization\n",
        "from keras.layers.convolutional import Conv2D\n",
        "from keras.layers.convolutional import MaxPooling2D\n",
        "from keras.layers.core import Activation, Flatten, Dropout, Dense\n",
        "from keras.preprocessing.image import ImageDataGenerator\n",
        "from keras.optimizers import Adam \n",
        "from keras import backend as K "
      ],
      "execution_count": null,
      "outputs": []
    },
    {
      "cell_type": "code",
      "metadata": {
        "id": "ccWgXz53UBG2",
        "colab_type": "code",
        "colab": {}
      },
      "source": [
        ""
      ],
      "execution_count": null,
      "outputs": []
    },
    {
      "cell_type": "code",
      "metadata": {
        "id": "qMIFnKzjUBN8",
        "colab_type": "code",
        "colab": {}
      },
      "source": [
        "model = Sequential()\n",
        "height = 256\n",
        "width = 256\n",
        "depth = 3 # 3 channels RGB\n",
        "inputShape = (height, width, depth)\n",
        "chanDim = -1\n",
        "if K.image_data_format() == \"channels_first\":\n",
        "    inputShape = (depth, height, width)\n",
        "    chanDim = 1\n",
        "model.add(Conv2D(32, (3, 3), padding=\"same\",input_shape=(256,256,3)))\n",
        "model.add(Activation(\"relu\"))\n",
        "model.add(BatchNormalization(axis=chanDim))\n",
        "model.add(MaxPooling2D(pool_size=(3, 3)))\n",
        "model.add(Dropout(0.25))\n",
        "model.add(Conv2D(64, (3, 3), padding=\"same\"))\n",
        "model.add(Activation(\"relu\"))\n",
        "model.add(BatchNormalization(axis=chanDim))\n",
        "model.add(Conv2D(64, (3, 3), padding=\"same\"))\n",
        "model.add(Activation(\"relu\"))\n",
        "model.add(BatchNormalization(axis=chanDim))\n",
        "model.add(MaxPooling2D(pool_size=(2, 2)))\n",
        "model.add(Dropout(0.25))\n",
        "model.add(Conv2D(128, (3, 3), padding=\"same\"))\n",
        "model.add(Activation(\"relu\"))\n",
        "model.add(BatchNormalization(axis=chanDim))\n",
        "model.add(Conv2D(128, (3, 3), padding=\"same\"))\n",
        "model.add(Activation(\"relu\"))\n",
        "model.add(BatchNormalization(axis=chanDim))\n",
        "model.add(MaxPooling2D(pool_size=(2, 2)))\n",
        "model.add(Dropout(0.25))\n",
        "model.add(Flatten())\n",
        "model.add(Dense(1024))\n",
        "model.add(Activation(\"relu\"))\n",
        "model.add(BatchNormalization())\n",
        "model.add(Dropout(0.5))\n",
        "model.add(Dense(39)) #output classes kitni hai vo hai ye\n",
        "model.add(Activation(\"softmax\"))"
      ],
      "execution_count": null,
      "outputs": []
    },
    {
      "cell_type": "code",
      "metadata": {
        "id": "G4FEGzwXYr7Q",
        "colab_type": "code",
        "colab": {
          "base_uri": "https://localhost:8080/",
          "height": 1000
        },
        "outputId": "c5ab29e0-d9a8-469b-eec3-bb4451436ff7"
      },
      "source": [
        "model.summary()"
      ],
      "execution_count": null,
      "outputs": [
        {
          "output_type": "stream",
          "text": [
            "Model: \"sequential_2\"\n",
            "_________________________________________________________________\n",
            "Layer (type)                 Output Shape              Param #   \n",
            "=================================================================\n",
            "conv2d_6 (Conv2D)            (None, 256, 256, 32)      896       \n",
            "_________________________________________________________________\n",
            "activation_8 (Activation)    (None, 256, 256, 32)      0         \n",
            "_________________________________________________________________\n",
            "batch_normalization_7 (Batch (None, 256, 256, 32)      128       \n",
            "_________________________________________________________________\n",
            "max_pooling2d_4 (MaxPooling2 (None, 85, 85, 32)        0         \n",
            "_________________________________________________________________\n",
            "dropout_5 (Dropout)          (None, 85, 85, 32)        0         \n",
            "_________________________________________________________________\n",
            "conv2d_7 (Conv2D)            (None, 85, 85, 64)        18496     \n",
            "_________________________________________________________________\n",
            "activation_9 (Activation)    (None, 85, 85, 64)        0         \n",
            "_________________________________________________________________\n",
            "batch_normalization_8 (Batch (None, 85, 85, 64)        256       \n",
            "_________________________________________________________________\n",
            "conv2d_8 (Conv2D)            (None, 85, 85, 64)        36928     \n",
            "_________________________________________________________________\n",
            "activation_10 (Activation)   (None, 85, 85, 64)        0         \n",
            "_________________________________________________________________\n",
            "batch_normalization_9 (Batch (None, 85, 85, 64)        256       \n",
            "_________________________________________________________________\n",
            "max_pooling2d_5 (MaxPooling2 (None, 42, 42, 64)        0         \n",
            "_________________________________________________________________\n",
            "dropout_6 (Dropout)          (None, 42, 42, 64)        0         \n",
            "_________________________________________________________________\n",
            "conv2d_9 (Conv2D)            (None, 42, 42, 128)       73856     \n",
            "_________________________________________________________________\n",
            "activation_11 (Activation)   (None, 42, 42, 128)       0         \n",
            "_________________________________________________________________\n",
            "batch_normalization_10 (Batc (None, 42, 42, 128)       512       \n",
            "_________________________________________________________________\n",
            "conv2d_10 (Conv2D)           (None, 42, 42, 128)       147584    \n",
            "_________________________________________________________________\n",
            "activation_12 (Activation)   (None, 42, 42, 128)       0         \n",
            "_________________________________________________________________\n",
            "batch_normalization_11 (Batc (None, 42, 42, 128)       512       \n",
            "_________________________________________________________________\n",
            "max_pooling2d_6 (MaxPooling2 (None, 21, 21, 128)       0         \n",
            "_________________________________________________________________\n",
            "dropout_7 (Dropout)          (None, 21, 21, 128)       0         \n",
            "_________________________________________________________________\n",
            "flatten_2 (Flatten)          (None, 56448)             0         \n",
            "_________________________________________________________________\n",
            "dense_3 (Dense)              (None, 1024)              57803776  \n",
            "_________________________________________________________________\n",
            "activation_13 (Activation)   (None, 1024)              0         \n",
            "_________________________________________________________________\n",
            "batch_normalization_12 (Batc (None, 1024)              4096      \n",
            "_________________________________________________________________\n",
            "dropout_8 (Dropout)          (None, 1024)              0         \n",
            "_________________________________________________________________\n",
            "dense_4 (Dense)              (None, 39)                39975     \n",
            "_________________________________________________________________\n",
            "activation_14 (Activation)   (None, 39)                0         \n",
            "=================================================================\n",
            "Total params: 58,127,271\n",
            "Trainable params: 58,124,391\n",
            "Non-trainable params: 2,880\n",
            "_________________________________________________________________\n"
          ],
          "name": "stdout"
        }
      ]
    },
    {
      "cell_type": "code",
      "metadata": {
        "id": "x03J-aibgwGt",
        "colab_type": "code",
        "colab": {}
      },
      "source": [
        "!mkdir Weights"
      ],
      "execution_count": null,
      "outputs": []
    },
    {
      "cell_type": "code",
      "metadata": {
        "id": "sf50jgrM9C86",
        "colab_type": "code",
        "colab": {
          "base_uri": "https://localhost:8080/",
          "height": 34
        },
        "outputId": "0c32f420-8a48-47a0-e1a0-9c7e5c4a18c2"
      },
      "source": [
        "model.compile(optimizer='adam', loss='categorical_crossentropy', metrics=['accuracy'])\n",
        "ep = 34334//128\n",
        "print(ep)\n",
        "\n",
        "from keras.callbacks import ModelCheckpoint\n",
        "\n",
        "filepath=\"/content/Weights/weights-{epoch:02d}-{val_accuracy:.2f}.hdf5\"\n",
        "checkpoint = ModelCheckpoint(filepath, monitor='val_accuracy', verbose=1, save_best_only=True, mode='max')\n",
        "callbacks_list = [checkpoint]"
      ],
      "execution_count": null,
      "outputs": [
        {
          "output_type": "stream",
          "text": [
            "268\n"
          ],
          "name": "stdout"
        }
      ]
    },
    {
      "cell_type": "code",
      "metadata": {
        "id": "8v5pYz2c-FSR",
        "colab_type": "code",
        "colab": {
          "base_uri": "https://localhost:8080/",
          "height": 173
        },
        "outputId": "aa3144fe-c0dd-419b-9472-7e79919d9e1c"
      },
      "source": [
        "model_fit=model.fit(trainGenerator,\n",
        "                    steps_per_epoch=trainGenerator.samples//64,\n",
        "                    epochs=2,\n",
        "                    shuffle=True,\n",
        "                    callbacks = callbacks_list,\n",
        "                    validation_data=validGenerator,validation_steps=validGenerator.samples//64)"
      ],
      "execution_count": null,
      "outputs": [
        {
          "output_type": "stream",
          "text": [
            "Epoch 1/2\n",
            "536/536 [==============================] - 814s 2s/step - loss: 0.5669 - accuracy: 0.8228 - val_loss: 0.6862 - val_accuracy: 0.7034\n",
            "\n",
            "Epoch 00001: val_accuracy improved from -inf to 0.70336, saving model to /content/Weights/weights-01-0.70.hdf5\n",
            "Epoch 2/2\n",
            "536/536 [==============================] - 816s 2s/step - loss: 0.3629 - accuracy: 0.8831 - val_loss: 2.4353 - val_accuracy: 0.5651\n",
            "\n",
            "Epoch 00002: val_accuracy did not improve from 0.70336\n"
          ],
          "name": "stdout"
        }
      ]
    },
    {
      "cell_type": "code",
      "metadata": {
        "id": "ZreY3XsdxBN8",
        "colab_type": "code",
        "colab": {
          "base_uri": "https://localhost:8080/",
          "height": 545
        },
        "outputId": "4720b7b5-e634-4d38-8fd7-fcebdce6c5a7"
      },
      "source": [
        "accur = model_fit.history[\"accuracy\"]\n",
        "val_accur = model_fit.history[\"val_accuracy\"]\n",
        "loss = model_fit.history[\"loss\"]\n",
        "val_loss = model_fit.history[\"val_loss\"]\n",
        "from matplotlib import pyplot as plt\n",
        "%matplotlib inline\n",
        "#Graph of Train and Validation Accuracy\n",
        "epochs = range(1,len(accur) + 1)\n",
        "plt.plot(epochs,accur,'b',label=\"Train Accuracy\")\n",
        "plt.plot(epochs,val_accur,'r',label=\"Test Accuracy\")\n",
        "plt.title(\"Train and Test Accuracy\")\n",
        "plt.legend()\n",
        "\n",
        "#Graph of Train and Test Loss\n",
        "plt.figure()\n",
        "plt.plot(epochs,loss,'b',label=\"Train Loss\")\n",
        "plt.plot(epochs,val_loss,'r',label=\"Test Loss\")\n",
        "plt.title(\"Train and Test Loss\")\n",
        "plt.legend()\n",
        "plt.show()"
      ],
      "execution_count": null,
      "outputs": [
        {
          "output_type": "display_data",
          "data": {
            "image/png": "[encoded data removed]",
            "text/plain": [
              "<Figure size 432x288 with 1 Axes>"
            ]
          },
          "metadata": {
            "tags": [],
            "needs_background": "light"
          }
        },
        {
          "output_type": "display_data",
          "data": {
            "image/png": "[encoded data removed]",
            "text/plain": [
              "<Figure size 432x288 with 1 Axes>"
            ]
          },
          "metadata": {
            "tags": [],
            "needs_background": "light"
          }
        }
      ]
    },
    {
      "cell_type": "code",
      "metadata": {
        "id": "SGHF7pa32iJT",
        "colab_type": "code",
        "colab": {
          "base_uri": "https://localhost:8080/",
          "height": 68
        },
        "outputId": "b70a3a93-11b5-47c5-8431-d7889b45668d"
      },
      "source": [
        "print(\"Calculating Model Accuracy : \")\n",
        "model.load_weights(\"/content/Weights/weights-01-0.70.hdf5\")\n",
        "scores = model.evaluate(validGenerator)\n",
        "print(f\"Test Accuracy : {scores[1]*100}\")"
      ],
      "execution_count": null,
      "outputs": [
        {
          "output_type": "stream",
          "text": [
            "Calculating Model Accuracy : \n",
            "135/135 [==============================] - 140s 1s/step\n",
            "Test Accuracy : 71.0606038570404\n"
          ],
          "name": "stdout"
        }
      ]
    },
    {
      "cell_type": "code",
      "metadata": {
        "id": "9sQErRMD2_N3",
        "colab_type": "code",
        "colab": {
          "base_uri": "https://localhost:8080/",
          "height": 34
        },
        "outputId": "71caf013-cfeb-432d-e19a-bf58eaa33ca8"
      },
      "source": [
        "print(\"Saving Model...\")\n",
        "model.save(\"PlantDisease.h5\")"
      ],
      "execution_count": null,
      "outputs": [
        {
          "output_type": "stream",
          "text": [
            "Saving Model...\n"
          ],
          "name": "stdout"
        }
      ]
    },
    {
      "cell_type": "code",
      "metadata": {
        "id": "8rN_q10W35fe",
        "colab_type": "code",
        "colab": {}
      },
      "source": [
        "from keras.models import load_model\n",
        "model2 = load_model(\"PlantDisease.h5\")"
      ],
      "execution_count": null,
      "outputs": []
    },
    {
      "cell_type": "code",
      "metadata": {
        "id": "8AI6OKd44NKx",
        "colab_type": "code",
        "colab": {
          "base_uri": "https://localhost:8080/",
          "height": 1000
        },
        "outputId": "519b8b8f-140e-48e0-dacb-693d208e8ae3"
      },
      "source": [
        "model2.summary()"
      ],
      "execution_count": null,
      "outputs": [
        {
          "output_type": "stream",
          "text": [
            "Model: \"sequential_1\"\n",
            "_________________________________________________________________\n",
            "Layer (type)                 Output Shape              Param #   \n",
            "=================================================================\n",
            "conv2d_1 (Conv2D)            (None, 256, 256, 32)      896       \n",
            "_________________________________________________________________\n",
            "activation_1 (Activation)    (None, 256, 256, 32)      0         \n",
            "_________________________________________________________________\n",
            "batch_normalization_1 (Batch (None, 256, 256, 32)      128       \n",
            "_________________________________________________________________\n",
            "max_pooling2d_1 (MaxPooling2 (None, 85, 85, 32)        0         \n",
            "_________________________________________________________________\n",
            "dropout_1 (Dropout)          (None, 85, 85, 32)        0         \n",
            "_________________________________________________________________\n",
            "conv2d_2 (Conv2D)            (None, 85, 85, 64)        18496     \n",
            "_________________________________________________________________\n",
            "activation_2 (Activation)    (None, 85, 85, 64)        0         \n",
            "_________________________________________________________________\n",
            "batch_normalization_2 (Batch (None, 85, 85, 64)        256       \n",
            "_________________________________________________________________\n",
            "conv2d_3 (Conv2D)            (None, 85, 85, 64)        36928     \n",
            "_________________________________________________________________\n",
            "activation_3 (Activation)    (None, 85, 85, 64)        0         \n",
            "_________________________________________________________________\n",
            "batch_normalization_3 (Batch (None, 85, 85, 64)        256       \n",
            "_________________________________________________________________\n",
            "max_pooling2d_2 (MaxPooling2 (None, 42, 42, 64)        0         \n",
            "_________________________________________________________________\n",
            "dropout_2 (Dropout)          (None, 42, 42, 64)        0         \n",
            "_________________________________________________________________\n",
            "conv2d_4 (Conv2D)            (None, 42, 42, 128)       73856     \n",
            "_________________________________________________________________\n",
            "activation_4 (Activation)    (None, 42, 42, 128)       0         \n",
            "_________________________________________________________________\n",
            "batch_normalization_4 (Batch (None, 42, 42, 128)       512       \n",
            "_________________________________________________________________\n",
            "conv2d_5 (Conv2D)            (None, 42, 42, 128)       147584    \n",
            "_________________________________________________________________\n",
            "activation_5 (Activation)    (None, 42, 42, 128)       0         \n",
            "_________________________________________________________________\n",
            "batch_normalization_5 (Batch (None, 42, 42, 128)       512       \n",
            "_________________________________________________________________\n",
            "max_pooling2d_3 (MaxPooling2 (None, 21, 21, 128)       0         \n",
            "_________________________________________________________________\n",
            "dropout_3 (Dropout)          (None, 21, 21, 128)       0         \n",
            "_________________________________________________________________\n",
            "flatten_1 (Flatten)          (None, 56448)             0         \n",
            "_________________________________________________________________\n",
            "dense_1 (Dense)              (None, 1024)              57803776  \n",
            "_________________________________________________________________\n",
            "activation_6 (Activation)    (None, 1024)              0         \n",
            "_________________________________________________________________\n",
            "batch_normalization_6 (Batch (None, 1024)              4096      \n",
            "_________________________________________________________________\n",
            "dropout_4 (Dropout)          (None, 1024)              0         \n",
            "_________________________________________________________________\n",
            "dense_2 (Dense)              (None, 38)                38950     \n",
            "_________________________________________________________________\n",
            "activation_7 (Activation)    (None, 38)                0         \n",
            "=================================================================\n",
            "Total params: 58,126,246\n",
            "Trainable params: 58,123,366\n",
            "Non-trainable params: 2,880\n",
            "_________________________________________________________________\n"
          ],
          "name": "stdout"
        }
      ]
    },
    {
      "cell_type": "code",
      "metadata": {
        "id": "k9x00tsrxd-c",
        "colab_type": "code",
        "colab": {
          "base_uri": "https://localhost:8080/",
          "height": 68
        },
        "outputId": "d6ff8b54-4610-428b-d434-a2f03c74432c"
      },
      "source": [
        "from sklearn.metrics import classification_report, confusion_matrix\n",
        "print()\n",
        "Y_pred = model.predict_generator(validGenerator, validGenerator.samples / 64,verbose=1)\n",
        "y_pred = np.argmax(Y_pred, axis=1)\n",
        "print(len(y_pred))\n"
      ],
      "execution_count": null,
      "outputs": [
        {
          "output_type": "stream",
          "text": [
            "\n",
            "135/134 [==============================] - 140s 1s/step\n",
            "8580\n"
          ],
          "name": "stdout"
        }
      ]
    },
    {
      "cell_type": "code",
      "metadata": {
        "id": "sdlPFMOKx7lg",
        "colab_type": "code",
        "colab": {
          "base_uri": "https://localhost:8080/",
          "height": 1000
        },
        "outputId": "b7ab40d3-e0b0-48b7-d0e0-56030d8ffe57"
      },
      "source": [
        "classes = validGenerator.class_indices\n",
        "from sklearn.metrics import accuracy_score ,multilabel_confusion_matrix\n",
        "import seaborn as sns\n",
        "\n",
        "y_pred = np.argmax(Y_pred, axis=1)\n",
        "print('Confusion Matrix')\n",
        "print(len(y_pred))\n",
        "print(len(validGenerator.classes))\n",
        "cm = confusion_matrix(validGenerator.classes, y_pred)\n",
        "#tn,fp,fn,tp = confusion_matrix(validGenerator.classes,y_pred)\n",
        "#print((tn,fp,fn,tp))\n",
        "print(cm)\n",
        "print(\"Accuracy Score : \"+str(accuracy_score(validGenerator.classes,y_pred)*100))\n",
        "plt.imshow(cm,cmap='jet')\n",
        "plt.xlabel(\"Predicted labels\")\n",
        "plt.ylabel(\"True labels\")\n",
        "plt.xticks([], [])\n",
        "plt.yticks([], [])\n",
        "plt.title('Confusion matrix ')\n",
        "plt.colorbar()\n",
        "plt.show()\n",
        "\n",
        "print('Classification Report')\n",
        "t_names = list(classes.keys())\n",
        "#print(t_names)\n",
        "print(classification_report(validGenerator.classes, y_pred, target_names=t_names))"
      ],
      "execution_count": null,
      "outputs": [
        {
          "output_type": "stream",
          "text": [
            "Confusion Matrix\n",
            "8580\n",
            "8580\n",
            "[[ 2  6  2 ...  8  2  9]\n",
            " [ 7  2  2 ...  7  4 10]\n",
            " [ 8  6  6 ... 13  2  5]\n",
            " ...\n",
            " [ 5  6  4 ...  7  6 19]\n",
            " [ 4  4  4 ...  5  3  9]\n",
            " [ 6  4  8 ...  7  2 12]]\n",
            "Accuracy Score : 2.634032634032634\n"
          ],
          "name": "stdout"
        },
        {
          "output_type": "display_data",
          "data": {
            "image/png": "[encoded data removed]",
            "text/plain": [
              "<Figure size 432x288 with 2 Axes>"
            ]
          },
          "metadata": {
            "tags": [],
            "needs_background": "light"
          }
        },
        {
          "output_type": "stream",
          "text": [
            "Classification Report\n",
            "                                               precision    recall  f1-score   support\n",
            "\n",
            "                           Apple___Apple_scab       0.01      0.01      0.01       200\n",
            "                            Apple___Black_rot       0.01      0.01      0.01       200\n",
            "                     Apple___Cedar_apple_rust       0.05      0.03      0.04       200\n",
            "                              Apple___healthy       0.02      0.04      0.02       240\n",
            "                    Background_without_leaves       0.02      0.02      0.02       228\n",
            "                          Blueberry___healthy       0.03      0.02      0.03       240\n",
            "                      Cherry___Powdery_mildew       0.01      0.00      0.01       210\n",
            "                             Cherry___healthy       0.02      0.01      0.02       200\n",
            "   Corn___Cercospora_leaf_spot Gray_leaf_spot       0.03      0.02      0.02       200\n",
            "                           Corn___Common_rust       0.03      0.03      0.03       238\n",
            "                  Corn___Northern_Leaf_Blight       0.04      0.04      0.04       200\n",
            "                               Corn___healthy       0.05      0.05      0.05       232\n",
            "                            Grape___Black_rot       0.06      0.02      0.03       236\n",
            "                 Grape___Esca_(Black_Measles)       0.03      0.05      0.04       240\n",
            "   Grape___Leaf_blight_(Isariopsis_Leaf_Spot)       0.03      0.07      0.04       215\n",
            "                              Grape___healthy       0.02      0.02      0.02       200\n",
            "     Orange___Haunglongbing_(Citrus_greening)       0.03      0.05      0.04       240\n",
            "                       Peach___Bacterial_spot       0.01      0.01      0.01       240\n",
            "                              Peach___healthy       0.01      0.01      0.01       200\n",
            "                Pepper,_bell___Bacterial_spot       0.01      0.01      0.01       200\n",
            "                       Pepper,_bell___healthy       0.01      0.01      0.01       240\n",
            "                        Potato___Early_blight       0.03      0.03      0.03       200\n",
            "                         Potato___Late_blight       0.01      0.01      0.01       200\n",
            "                             Potato___healthy       0.03      0.01      0.01       200\n",
            "                          Raspberry___healthy       0.01      0.01      0.01       200\n",
            "                            Soybean___healthy       0.03      0.03      0.03       240\n",
            "                      Squash___Powdery_mildew       0.03      0.03      0.03       240\n",
            "                     Strawberry___Leaf_scorch       0.00      0.00      0.00       221\n",
            "                         Strawberry___healthy       0.02      0.02      0.02       200\n",
            "                      Tomato___Bacterial_spot       0.05      0.05      0.05       240\n",
            "                        Tomato___Early_blight       0.04      0.03      0.04       200\n",
            "                         Tomato___Late_blight       0.05      0.03      0.04       240\n",
            "                           Tomato___Leaf_Mold       0.02      0.03      0.02       200\n",
            "                  Tomato___Septoria_leaf_spot       0.03      0.02      0.02       240\n",
            "Tomato___Spider_mites Two-spotted_spider_mite       0.03      0.06      0.04       240\n",
            "                         Tomato___Target_Spot       0.07      0.01      0.01       240\n",
            "       Tomato___Tomato_Yellow_Leaf_Curl_Virus       0.02      0.03      0.03       240\n",
            "                 Tomato___Tomato_mosaic_virus       0.02      0.01      0.02       200\n",
            "                             Tomato___healthy       0.03      0.05      0.03       240\n",
            "\n",
            "                                     accuracy                           0.03      8580\n",
            "                                    macro avg       0.03      0.03      0.02      8580\n",
            "                                 weighted avg       0.03      0.03      0.02      8580\n",
            "\n"
          ],
          "name": "stdout"
        }
      ]
    },
    {
      "cell_type": "code",
      "metadata": {
        "id": "AApHeGrP4SzO",
        "colab_type": "code",
        "colab": {}
      },
      "source": [
        ""
      ],
      "execution_count": null,
      "outputs": []
    }
  ]
}