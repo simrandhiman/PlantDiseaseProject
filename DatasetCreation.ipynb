{
  "nbformat": 4,
  "nbformat_minor": 0,
  "metadata": {
    "colab": {
      "name": " DatasetCreation.ipynb",
      "provenance": [],
      "collapsed_sections": [],
      "include_colab_link": true
    },
    "kernelspec": {
      "name": "python3",
      "display_name": "Python 3"
    }
  },
  "cells": [
    {
      "cell_type": "markdown",
      "metadata": {
        "id": "view-in-github",
        "colab_type": "text"
      },
      "source": [
        "<a href=\"https://colab.research.google.com/github/simrandhiman/PlantDiseaseProject/blob/master/DatasetCreation.ipynb\" target=\"_parent\"><img src=\"https://colab.research.google.com/assets/colab-badge.svg\" alt=\"Open In Colab\"/></a>"
      ]
    },
    {
      "cell_type": "markdown",
      "metadata": {
        "id": "Y_woMeWxdDjO",
        "colab_type": "text"
      },
      "source": [
        "**<h1>Creating And Normalizing Dataset</h1>**"
      ]
    },
    {
      "cell_type": "markdown",
      "metadata": {
        "id": "lTBUkqcGdYhn",
        "colab_type": "text"
      },
      "source": [
        "Downloading Dataset"
      ]
    },
    {
      "cell_type": "code",
      "metadata": {
        "id": "WHnj6MwkdBRZ",
        "colab_type": "code",
        "colab": {
          "base_uri": "https://localhost:8080/",
          "height": 119
        },
        "outputId": "ad62517a-0dc6-4204-ecfd-9b91227efedf"
      },
      "source": [
        " !git clone https://github.com/spMohanty/PlantVillage-Dataset"
      ],
      "execution_count": 1,
      "outputs": [
        {
          "output_type": "stream",
          "text": [
            "Cloning into 'PlantVillage-Dataset'...\n",
            "remote: Enumerating objects: 163229, done.\u001b[K\n",
            "remote: Total 163229 (delta 0), reused 0 (delta 0), pack-reused 163229\u001b[K\n",
            "Receiving objects: 100% (163229/163229), 2.00 GiB | 34.48 MiB/s, done.\n",
            "Resolving deltas: 100% (99/99), done.\n",
            "Checking out files: 100% (182401/182401), done.\n"
          ],
          "name": "stdout"
        }
      ]
    },
    {
      "cell_type": "markdown",
      "metadata": {
        "id": "8eeq0dQ5dl-k",
        "colab_type": "text"
      },
      "source": [
        "Copy main files dataset to /content/"
      ]
    },
    {
      "cell_type": "code",
      "metadata": {
        "id": "TH0axV2Pdk-d",
        "colab_type": "code",
        "colab": {}
      },
      "source": [
        " !cp -R /content/PlantVillage-Dataset/raw/ /content/"
      ],
      "execution_count": 2,
      "outputs": []
    },
    {
      "cell_type": "markdown",
      "metadata": {
        "id": "Y9_Z3_T0d2OX",
        "colab_type": "text"
      },
      "source": [
        "Visulize the Dataset"
      ]
    },
    {
      "cell_type": "code",
      "metadata": {
        "id": "35V8slZpeGxw",
        "colab_type": "code",
        "colab": {
          "base_uri": "https://localhost:8080/",
          "height": 71
        },
        "outputId": "0e8d533d-99c7-4e29-c027-4e5780b221a1"
      },
      "source": [
        "import numpy as np\n",
        "import seaborn as sns\n",
        "sns.set()\n",
        "from matplotlib import pyplot as plt\n",
        "from os import listdir\n",
        "import random\n",
        "import tqdm\n",
        "import shutil"
      ],
      "execution_count": 3,
      "outputs": [
        {
          "output_type": "stream",
          "text": [
            "/usr/local/lib/python3.6/dist-packages/statsmodels/tools/_testing.py:19: FutureWarning: pandas.util.testing is deprecated. Use the functions in the public API at pandas.testing instead.\n",
            "  import pandas.util.testing as tm\n"
          ],
          "name": "stderr"
        }
      ]
    },
    {
      "cell_type": "code",
      "metadata": {
        "id": "BVF2KFwad4Gy",
        "colab_type": "code",
        "colab": {
          "base_uri": "https://localhost:8080/",
          "height": 369
        },
        "outputId": "d35d6475-dd8e-4efe-9b5f-4f555726e8a7"
      },
      "source": [
        " \n",
        "print(\"[INFO] Loading Data \")\n",
        "root_dir = listdir('/content/raw/color/')\n",
        "directory_root='/content/raw/color/'\n",
        "sumP = 0\n",
        "Y = []\n",
        " \n",
        " \n",
        "j=0\n",
        "for directory in root_dir :\n",
        "    plant_disease_image_list = listdir(f\"{directory_root}/{directory}\")\n",
        "    lenP = len(plant_disease_image_list)\n",
        "    Y.append (lenP)\n",
        "    j=j+1\n",
        "    #print(\"[IMAGES] Images : \" + str(lenP))\n",
        "    sumP += lenP\n",
        "   \n",
        "print(\"Total Images : \" + str(sumP))\n",
        "print(\"Mean of Images :\" + str(sumP/len(listdir(directory_root))))\n",
        "print(\"Standard Deviation :\"+str(np.std(Y)))\n",
        " \n",
        "#BarGraph\n",
        "plt.bar(range(0,len(root_dir)),Y)\n",
        "plt.xlabel(\"Class Name\")\n",
        "plt.ylabel(\"Number of Images\")\n",
        "plt.title(\"Number Of Images in every folder\")\n",
        "plt.show()"
      ],
      "execution_count": 11,
      "outputs": [
        {
          "output_type": "stream",
          "text": [
            "[INFO] Loading Data \n",
            "Total Images : 54255\n",
            "Mean of Images :1427.7631578947369\n",
            "Standard Deviation :1255.1614371783023\n"
          ],
          "name": "stdout"
        },
        {
          "output_type": "display_data",
          "data": {
            "image/png": "[encoded data removed]",
            "text/plain": [
              "<Figure size 432x288 with 1 Axes>"
            ]
          },
          "metadata": {
            "tags": []
          }
        }
      ]
    },
    {
      "cell_type": "markdown",
      "metadata": {
        "id": "n1qFmJ63fIPu",
        "colab_type": "text"
      },
      "source": [
        "Moving Random Images from Random folder in Test Folder"
      ]
    },
    {
      "cell_type": "code",
      "metadata": {
        "id": "i_EV85tNfOp-",
        "colab_type": "code",
        "colab": {}
      },
      "source": [
        "!mkdir Test"
      ],
      "execution_count": 6,
      "outputs": []
    },
    {
      "cell_type": "code",
      "metadata": {
        "id": "8V1Gpzbofifi",
        "colab_type": "code",
        "colab": {
          "base_uri": "https://localhost:8080/",
          "height": 34
        },
        "outputId": "daa3ba67-b455-45fa-cc31-7757c59bdb7a"
      },
      "source": [
        "root_dir = listdir(directory_root)\n",
        "print(\"Number Of Folders : \" + str(len(root_dir)))"
      ],
      "execution_count": 7,
      "outputs": [
        {
          "output_type": "stream",
          "text": [
            "Number Of Folders : 38\n"
          ],
          "name": "stdout"
        }
      ]
    },
    {
      "cell_type": "code",
      "metadata": {
        "id": "HYuIrKS1fV7S",
        "colab_type": "code",
        "colab": {}
      },
      "source": [
        " def TestFileFolderCreate() :   \n",
        "    randomFolder = random.randint(0,len(root_dir)-1)\n",
        "    folderName = root_dir[randomFolder]\n",
        "    imageList = listdir(f\"{directory_root}/{folderName}\")\n",
        "    randomImageNum = random.randint(0,len(imageList)-1)\n",
        "    ImageName = imageList[randomImageNum]\n",
        "    WriteFile(folderName,ImageName)\n",
        "    src = f\"{directory_root}/{folderName}/{ImageName}\"\n",
        "    des = '/content/Test/'\n",
        "    shutil.move(src,des)\n",
        " \n",
        "def WriteFile(ClassName,ImageName):\n",
        "    f = open(\"TestFile.csv\",\"a+\")\n",
        "    f.write(ClassName+\"@#\"+ImageName+\"\\n\")"
      ],
      "execution_count": 8,
      "outputs": []
    },
    {
      "cell_type": "code",
      "metadata": {
        "id": "NZddomsIfyOA",
        "colab_type": "code",
        "colab": {
          "base_uri": "https://localhost:8080/",
          "height": 34
        },
        "outputId": "b666a706-b54a-402f-847e-9d5812c449bc"
      },
      "source": [
        " for i in tqdm.tqdm(range(0,50),position=0):\n",
        "    TestFileFolderCreate()"
      ],
      "execution_count": 9,
      "outputs": [
        {
          "output_type": "stream",
          "text": [
            "100%|██████████| 50/50 [00:00<00:00, 900.96it/s]\n"
          ],
          "name": "stderr"
        }
      ]
    },
    {
      "cell_type": "markdown",
      "metadata": {
        "id": "X3S61p9ogZre",
        "colab_type": "text"
      },
      "source": [
        "Creating zip file of Test Folder."
      ]
    },
    {
      "cell_type": "code",
      "metadata": {
        "id": "VwZEOwfOgg8q",
        "colab_type": "code",
        "colab": {
          "base_uri": "https://localhost:8080/",
          "height": 35
        },
        "outputId": "2bb1f3a2-ef70-4a7f-fb1c-086a5f38d320"
      },
      "source": [
        "shutil.make_archive(\"TestActualFor\",\"zip\",\"/content/Test/\")"
      ],
      "execution_count": 10,
      "outputs": [
        {
          "output_type": "execute_result",
          "data": {
            "application/vnd.google.colaboratory.intrinsic+json": {
              "type": "string"
            },
            "text/plain": [
              "'/content/TestActualFor.zip'"
            ]
          },
          "metadata": {
            "tags": []
          },
          "execution_count": 10
        }
      ]
    },
    {
      "cell_type": "markdown",
      "metadata": {
        "id": "LIVYqvc3hZHB",
        "colab_type": "text"
      },
      "source": [
        "Balancing Dataset by deleteting imagefiles and make them near to Mean Images"
      ]
    },
    {
      "cell_type": "code",
      "metadata": {
        "id": "BTfGzfnihkr0",
        "colab_type": "code",
        "colab": {
          "base_uri": "https://localhost:8080/",
          "height": 68
        },
        "outputId": "7bd82b69-1561-47ad-f4cd-d973316b1140"
      },
      "source": [
        "import os\n",
        "NumBalanced = int(input(\"Enter Number where you want images Nearby : \\n[Recommended - 1200]\"))\n",
        "iterator = tqdm.tqdm(range(len(listdir(directory_root))),position=0)\n",
        "def deleteFile(imageList,pathFolder):\n",
        "    lengthOfImageList = len(imageList)\n",
        "    randomFileNumber = random.sample(range(0, lengthOfImageList-50), (lengthOfImageList-NumBalanced))\n",
        "    for j in randomFileNumber:\n",
        "        path = pathFolder +\"/\"+ imageList[j]\n",
        "        os.remove(path)\n",
        " \n",
        "root = listdir(directory_root)\n",
        "for i in iterator:\n",
        "    if i==(len(root)):\n",
        "        iterator.close()\n",
        "    st = str(i)\n",
        "    iterator.set_description(st)\n",
        "    pathFolder = f\"{directory_root}/{root[i]}\"\n",
        "    imagesTotal = len(listdir(pathFolder))\n",
        "    if imagesTotal > NumBalanced:\n",
        "        imagesList = listdir(pathFolder)\n",
        "        deleteFile(imagesList,pathFolder)"
      ],
      "execution_count": 12,
      "outputs": [
        {
          "output_type": "stream",
          "text": [
            "Enter Number where you want images Nearby : \n",
            "[Recommended - 1200]1200\n"
          ],
          "name": "stdout"
        },
        {
          "output_type": "stream",
          "text": [
            "37: 100%|██████████| 38/38 [00:01<00:00, 30.80it/s]\n"
          ],
          "name": "stderr"
        }
      ]
    },
    {
      "cell_type": "code",
      "metadata": {
        "id": "DORuKP1AiMIc",
        "colab_type": "code",
        "colab": {
          "base_uri": "https://localhost:8080/",
          "height": 369
        },
        "outputId": "8eb6be23-5f81-4257-90db-20fbe3a57afe"
      },
      "source": [
        " \n",
        "print(\"[INFO] Loading Data \")\n",
        "root_dir = listdir('/content/raw/color/')\n",
        "directory_root='/content/raw/color/'\n",
        "sumP = 0\n",
        "Y = []\n",
        " \n",
        " \n",
        "j=0\n",
        "for directory in root_dir :\n",
        "    plant_disease_image_list = listdir(f\"{directory_root}/{directory}\")\n",
        "    lenP = len(plant_disease_image_list)\n",
        "    Y.append (lenP)\n",
        "    j=j+1\n",
        "    #print(\"[IMAGES] Images : \" + str(lenP))\n",
        "    sumP += lenP\n",
        "   \n",
        "print(\"Total Images : \" + str(sumP))\n",
        "print(\"Mean of Images :\" + str(sumP/len(listdir(directory_root))))\n",
        "print(\"Standard Deviation :\"+str(np.std(Y)))\n",
        " \n",
        "#BarGraph\n",
        "plt.bar(range(0,len(root_dir)),Y)\n",
        "plt.xlabel(\"Class Name\")\n",
        "plt.ylabel(\"Number of Images\")\n",
        "plt.title(\"Number Of Images in every folder\")\n",
        "plt.show()"
      ],
      "execution_count": 13,
      "outputs": [
        {
          "output_type": "stream",
          "text": [
            "[INFO] Loading Data \n",
            "Total Images : 35703\n",
            "Mean of Images :939.5526315789474\n",
            "Standard Deviation :332.6243888713246\n"
          ],
          "name": "stdout"
        },
        {
          "output_type": "display_data",
          "data": {
            "image/png": "[encoded data removed]",
            "text/plain": [
              "<Figure size 432x288 with 1 Axes>"
            ]
          },
          "metadata": {
            "tags": []
          }
        }
      ]
    },
    {
      "cell_type": "markdown",
      "metadata": {
        "id": "T14MwyUdi51_",
        "colab_type": "text"
      },
      "source": [
        "Moving File for TestGenerator"
      ]
    },
    {
      "cell_type": "markdown",
      "metadata": {
        "id": "UaO3K47wjIyz",
        "colab_type": "text"
      },
      "source": [
        "For every clasa we are moving 18 to 20 images"
      ]
    },
    {
      "cell_type": "code",
      "metadata": {
        "id": "8uR1GJxQjObt",
        "colab_type": "code",
        "colab": {}
      },
      "source": [
        "!mkdir testGenerator"
      ],
      "execution_count": 14,
      "outputs": []
    },
    {
      "cell_type": "code",
      "metadata": {
        "id": "vXmcIHccjUXT",
        "colab_type": "code",
        "colab": {}
      },
      "source": [
        "from os.path import isfile , isdir"
      ],
      "execution_count": 15,
      "outputs": []
    },
    {
      "cell_type": "code",
      "metadata": {
        "id": "qk7d72rpi-OK",
        "colab_type": "code",
        "colab": {
          "base_uri": "https://localhost:8080/",
          "height": 34
        },
        "outputId": "07ccfdf5-5618-41cf-8f6e-350b97696727"
      },
      "source": [
        " iterator = tqdm.tqdm(range(38),position=0)\n",
        " \n",
        "folderlist = listdir(directory_root)\n",
        "validPath = '/content/testGenerator'\n",
        "for i in iterator:\n",
        "    folderName = folderlist[i]\n",
        "    os.mkdir(validPath+\"/\"+folderName)\n",
        "    folderPath = f\"{directory_root}/{folderName}\"\n",
        "    imageList = listdir(folderPath)\n",
        "    totalImage = random.randint(18,20)\n",
        "    for j in range(totalImage):\n",
        "        iterator.set_description(str(j)+\"/\"+str(totalImage))\n",
        "        imageRandom = random.randint(0,len(imageList)-1)\n",
        "        image = imageList[imageRandom]\n",
        "        imagePath = f\"{directory_root}/{folderName}/{image}\"\n",
        "        if isfile(validPath+\"/\"+folderName+\"/\"+image):\n",
        "            j = j-1\n",
        "            continue\n",
        "        else:\n",
        "            src = imagePath\n",
        "            desc = validPath+\"/\"+folderName+\"/\"+image\n",
        "            shutil.move(src,desc)"
      ],
      "execution_count": 16,
      "outputs": [
        {
          "output_type": "stream",
          "text": [
            "17/18: 100%|██████████| 38/38 [00:01<00:00, 36.49it/s]\n"
          ],
          "name": "stderr"
        }
      ]
    },
    {
      "cell_type": "markdown",
      "metadata": {
        "id": "xSkj-jK_io92",
        "colab_type": "text"
      },
      "source": [
        "Augmentation"
      ]
    },
    {
      "cell_type": "code",
      "metadata": {
        "id": "5muvOvh8iXgU",
        "colab_type": "code",
        "colab": {}
      },
      "source": [
        " import random\n",
        "import cv2\n",
        "from matplotlib import pyplot as plt\n",
        "import albumentations as A\n",
        "from PIL import Image\n",
        "import string\n",
        "from skimage.io import imsave"
      ],
      "execution_count": 17,
      "outputs": []
    },
    {
      "cell_type": "code",
      "metadata": {
        "id": "bUszj3A1in4e",
        "colab_type": "code",
        "colab": {}
      },
      "source": [
        " def Augmentation(imageP,SavePathFolder):\n",
        "    image = cv2.imread(imageP, cv2.IMREAD_UNCHANGED)\n",
        "    image = cv2.cvtColor(image, cv2.COLOR_BGR2RGB)\n",
        "    brightnessLimit = round(random.random() * 5) # 0-1 range x 5 ese hi eandom dala mne ok\n",
        "    brightnessP = np.around(random.random(),decimals=2) ##probability  ok \n",
        "    rotateLimit = random.randint(0,360)\n",
        "    rotateP = np.around(random.random(),decimals=1)\n",
        "    verticalFlipP = np.around(random.random(),decimals=2)\n",
        "    HorFlipP = np.around(random.random(),decimals=2)\n",
        "    motionBP = np.around(random.random(),decimals=2)\n",
        "    medianBP = np.around(random.random(),decimals=2)\n",
        "    blurLim =  random.randint(3,5)\n",
        "    blurL = random.randint(3,5)\n",
        "    blurP = np.around(random.random(),decimals=2)\n",
        "    ElasticTrasformAplhaLim = random.randint(50,255)\n",
        " \n",
        "    transform = A.Compose([\n",
        "    A.ToFloat(max_value=255.0),\n",
        "    A.RandomBrightness(limit=brightnessLimit,p=brightnessP),\n",
        "    A.RandomRotate90(),\n",
        "    A.Rotate(limit=rotateLimit,p=rotateP),\n",
        "    A.Flip(),\n",
        "    A.VerticalFlip(p=verticalFlipP),\n",
        "    A.HorizontalFlip(p=HorFlipP),       \n",
        "    A.OneOf([\n",
        "        A.MotionBlur(p=motionBP),\n",
        "        A.MedianBlur(blur_limit=blurLim, p=medianBP),\n",
        "        A.Blur(blur_limit=blurL, p=blurP),\n",
        "    ], p=0.2),\n",
        "    A.ElasticTransform(alpha=random.randint(50,255), sigma=random.randint(20,200), alpha_affine=random.randint(40,110), p=np.around(random.random(),decimals=2)),\n",
        "    #A.RandomGamma(gamma_limit=random.randint(60,100), p=np.around(random.random(),decimals=2)),\n",
        "    A.ShiftScaleRotate(shift_limit=0.0625, scale_limit=np.around(random.random(),decimals=1), rotate_limit=random.randint(30,50), p=np.around(random.random(),decimals=2)),\n",
        "    A.OneOf([\n",
        "        A.OpticalDistortion(p=np.around(random.random(), decimals=2)),\n",
        "        A.GridDistortion(p=np.around(random.random(),decimals=2)),\n",
        "    ], p=0.2),        \n",
        "    A.HueSaturationValue(hue_shift_limit=random.randint(10,20), sat_shift_limit=np.around(random.random(),decimals=2), val_shift_limit=np.around(random.random(),decimals=2), p=np.around(random.random(),decimals=2)),\n",
        "    A.FromFloat(max_value=255.0),\n",
        "    ])\n",
        "    augmented = transform(image=image)#yji to btara tha ,ki jo image hmne cv2 se imread kri , usko upar vale traform mae bheja okkokk\n",
        "    img = cv2.convertScaleAbs(augmented['image']) #valies ko scale kra , 0 - 1 ke bixh mae 0-255 ko hnji\n",
        "    letters = string.ascii_letters#ye imahe ka name bna rhe hai. ok ramdom name woth random abcd vageeaok\n",
        "    result_str = ''.join(random.choice(letters) for i in range(10))\n",
        "    #print('Image Name :'+str(result_str))\n",
        "    imsave(SavePathFolder+\"/\"+result_str+\".jpg\",img)"
      ],
      "execution_count": 22,
      "outputs": []
    },
    {
      "cell_type": "markdown",
      "metadata": {
        "id": "YRvGx1yNkPJN",
        "colab_type": "text"
      },
      "source": [
        "Creating Images in every folder around 1200-1400"
      ]
    },
    {
      "cell_type": "code",
      "metadata": {
        "id": "zllfYaxhlS7L",
        "colab_type": "code",
        "colab": {}
      },
      "source": [
        " import warnings\n",
        "warnings.filterwarnings('ignore')\n",
        "warnings.simplefilter('ignore')"
      ],
      "execution_count": 23,
      "outputs": []
    },
    {
      "cell_type": "code",
      "metadata": {
        "id": "YBcJrAybj7w6",
        "colab_type": "code",
        "colab": {
          "base_uri": "https://localhost:8080/",
          "height": 663
        },
        "outputId": "af668807-36a5-4ad1-fd18-4ccc28158dd0"
      },
      "source": [
        "dir = listdir('/content/raw/color')\n",
        "k=0\n",
        "for imageFolder in dir:\n",
        "    st = \"[Folder] :\"+str(k)\n",
        "    folderPath = '/content/raw/color/'+imageFolder\n",
        "    imagesTotal = len(listdir(folderPath))\n",
        "    iterator = tqdm.tqdm(range(imagesTotal),position=0,desc=str(k))\n",
        "    GeneratingImages = random.randint(1200,1400)\n",
        "    requiredImages = GeneratingImages - imagesTotal\n",
        "    RIPERimages = requiredImages\n",
        "    if requiredImages <= 0:\n",
        "        k+=1\n",
        "        continue\n",
        "    imagesList = listdir(folderPath)\n",
        "    for i in iterator:\n",
        "        if requiredImages<=0:\n",
        "            iterator.update(imagesTotal)\n",
        "            iterator.close()\n",
        "            break\n",
        "        image = imagesList[i]\n",
        "        imagePath = folderPath+\"/\"+image\n",
        "        perimageHowManyGenerate = (requiredImages//imagesTotal)+2\n",
        "        destination = folderPath\n",
        "        requiredImages = requiredImages-perimageHowManyGenerate\n",
        "        st = str(round(((RIPERimages-requiredImages)/RIPERimages)*100))+\" %\"\n",
        "        iterator.set_description(str(k)+\" |\" +st)\n",
        "        if requiredImages <= 0:\n",
        "            iterator.update(imagesTotal)\n",
        "            iterator.close()\n",
        "            break\n",
        "        for i in range(0,perimageHowManyGenerate):\n",
        "            Augmentation(imagePath,destination)\n",
        "    k+=1"
      ],
      "execution_count": 24,
      "outputs": [
        {
          "output_type": "stream",
          "text": [
            "0 |102 %: : 1204it [00:04, 258.86it/s]                     \n",
            "1 |100 %: : 1129it [00:32, 34.93it/s]                      \n",
            "2 |100 %: : 1137it [00:34, 32.49it/s]                      \n",
            "3 |101 %: : 1257it [00:18, 69.60it/s]                      \n",
            "4 |100 %: : 1187it [00:28, 41.07it/s]                       \n",
            "5 |100 %: : 1129it [00:31, 35.37it/s]                      \n",
            "6 |100 %: : 1282it [00:23, 54.97it/s]                       \n",
            "7 |100 %: : 1029it [00:41, 24.67it/s]                      \n",
            "8 |100 %: : 1247it [00:13, 95.23it/s]                      \n",
            "9 |100 %: : 830it [01:23,  9.93it/s]                       \n",
            "10 |100 %: : 1281it [00:20, 63.96it/s]                       \n",
            "11 |100 %: : 1208it [00:07, 164.14it/s]                     \n",
            "12 |101 %: : 1220it [00:08, 145.96it/s]                     \n",
            "13 |100 %: : 1204it [00:23, 51.36it/s]                       \n",
            "14 |100 %: : 1259it [00:14, 83.95it/s]                      \n",
            "15 |101 %: : 1224it [00:09, 124.97it/s]                     \n",
            "16 |100 %: : 1105it [00:35, 31.06it/s]                      \n",
            "17 |100 %: : 942it [01:13, 12.84it/s]                       \n",
            "18 |100 %: : 1217it [00:07, 157.43it/s]                     \n",
            "19 |100 %: : 1261it [00:29, 43.36it/s]                       \n",
            "20 |94 %: 100%|██████████| 338/338 [01:46<00:00,  3.16it/s]\n",
            "21 |101 %: : 1219it [00:08, 145.97it/s]                     \n",
            "22 |100 %: : 1245it [00:11, 104.20it/s]                     \n",
            "23 |100 %: : 689it [01:31,  7.53it/s]                       \n",
            "24 |100 %: : 1196it [00:03, 378.57it/s]\n",
            "25 |100 %: : 1288it [00:24, 51.91it/s]                       \n",
            "26 |100 %: : 771it [01:41,  7.58it/s]                       \n",
            "27 |74 %: 100%|██████████| 131/131 [01:27<00:00,  1.50it/s]\n",
            "28 |86 %: 100%|██████████| 254/254 [01:32<00:00,  2.75it/s]\n",
            "29 |100 %: : 1170it [00:28, 40.49it/s]                       \n",
            "30 |100 %: : 1249it [00:17, 70.43it/s]                      \n",
            "31 |100 %: : 960it [01:17, 12.32it/s]                       \n",
            "32 |99 %: 100%|██████████| 353/353 [01:37<00:00,  3.64it/s]\n",
            "33 |100 %: : 1127it [00:31, 36.05it/s]                      \n",
            "34 |100 %: : 1169it [00:39, 29.79it/s]                      \n",
            "35 |100 %: : 1259it [00:17, 73.07it/s]                      \n",
            "36 |100 %: : 766it [01:21,  9.37it/s]                       \n",
            "37 |100 %: : 1283it [00:21, 59.55it/s]                       \n"
          ],
          "name": "stderr"
        }
      ]
    },
    {
      "cell_type": "markdown",
      "metadata": {
        "id": "HXpbVrdJrssO",
        "colab_type": "text"
      },
      "source": [
        "Data Visualization After Augmentation"
      ]
    },
    {
      "cell_type": "code",
      "metadata": {
        "id": "vI5IqoOlrhli",
        "colab_type": "code",
        "colab": {
          "base_uri": "https://localhost:8080/",
          "height": 369
        },
        "outputId": "863b6651-0747-480f-8e05-b4f3c2178465"
      },
      "source": [
        " \n",
        "print(\"[INFO] Loading Data \")\n",
        "root_dir = listdir('/content/raw/color/')\n",
        "directory_root='/content/raw/color/'\n",
        "sumP = 0\n",
        "Y = []\n",
        " \n",
        " \n",
        "j=0\n",
        "for directory in root_dir :\n",
        "    plant_disease_image_list = listdir(f\"{directory_root}/{directory}\")\n",
        "    lenP = len(plant_disease_image_list)\n",
        "    Y.append (lenP)\n",
        "    j=j+1\n",
        "    #print(\"[IMAGES] Images : \" + str(lenP))\n",
        "    sumP += lenP\n",
        "   \n",
        "print(\"Total Images : \" + str(sumP))\n",
        "print(\"Mean of Images :\" + str(sumP/len(listdir(directory_root))))\n",
        "print(\"Standard Deviation :\"+str(np.std(Y)))\n",
        " \n",
        "#BarGraph\n",
        "plt.bar(range(0,len(root_dir)),Y)\n",
        "plt.xlabel(\"Class Name\")\n",
        "plt.ylabel(\"Number of Images\")\n",
        "plt.title(\"Number Of Images in every folder\")\n",
        "plt.show()"
      ],
      "execution_count": 26,
      "outputs": [
        {
          "output_type": "stream",
          "text": [
            "[INFO] Loading Data \n",
            "Total Images : 49035\n",
            "Mean of Images :1290.3947368421052\n",
            "Standard Deviation :76.05591415243344\n"
          ],
          "name": "stdout"
        },
        {
          "output_type": "display_data",
          "data": {
            "image/png": "[encoded data removed]",
            "text/plain": [
              "<Figure size 432x288 with 1 Axes>"
            ]
          },
          "metadata": {
            "tags": []
          }
        }
      ]
    },
    {
      "cell_type": "markdown",
      "metadata": {
        "id": "lA8C7Bver4s6",
        "colab_type": "text"
      },
      "source": [
        "Creating Zip Files"
      ]
    },
    {
      "cell_type": "code",
      "metadata": {
        "id": "96k3rg7kr3aK",
        "colab_type": "code",
        "colab": {
          "base_uri": "https://localhost:8080/",
          "height": 35
        },
        "outputId": "ce81600e-04da-4da7-c27c-17a8c052a1bc"
      },
      "source": [
        "shutil.make_archive(\"TestGenerator\",\"zip\",\"/content/testGenerator/\")"
      ],
      "execution_count": 27,
      "outputs": [
        {
          "output_type": "execute_result",
          "data": {
            "application/vnd.google.colaboratory.intrinsic+json": {
              "type": "string"
            },
            "text/plain": [
              "'/content/TestGenerator.zip'"
            ]
          },
          "metadata": {
            "tags": []
          },
          "execution_count": 27
        }
      ]
    },
    {
      "cell_type": "code",
      "metadata": {
        "id": "4ZC8TW8GsP8x",
        "colab_type": "code",
        "colab": {
          "base_uri": "https://localhost:8080/",
          "height": 35
        },
        "outputId": "372152e1-6ca4-4575-b5dd-da6cdbdd49bb"
      },
      "source": [
        "shutil.make_archive(\"DatasetNew\",\"zip\",\"/content/raw/color/\")"
      ],
      "execution_count": 28,
      "outputs": [
        {
          "output_type": "execute_result",
          "data": {
            "application/vnd.google.colaboratory.intrinsic+json": {
              "type": "string"
            },
            "text/plain": [
              "'/content/DatasetNew.zip'"
            ]
          },
          "metadata": {
            "tags": []
          },
          "execution_count": 28
        }
      ]
    }
  ]
}